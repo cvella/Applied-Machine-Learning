{
 "cells": [
  {
   "cell_type": "markdown",
   "metadata": {
    "id": "6heD_LGUsJf7"
   },
   "source": [
    "# ICS5110: Applied Machine Learning\n",
    "\n",
    "Peter Galea St. John: 288098m\\\n",
    "Christian A. Vella\n"
   ]
  },
  {
   "cell_type": "code",
   "execution_count": 1,
   "metadata": {
    "colab": {
     "base_uri": "https://localhost:8080/"
    },
    "id": "z5-dgedozUqc",
    "outputId": "7bd601fb-ddfe-4284-83ed-08466ebe7038"
   },
   "outputs": [],
   "source": [
    "# Import some necessary libraries\n",
    "\n",
    "import pandas as pd\n",
    "import math\n",
    "import numpy as np\n",
    "import pickle\n",
    "import matplotlib.pyplot as plt\n",
    "%matplotlib inline\n",
    "import csv\n",
    "import graphviz\n",
    "from sklearn.model_selection import train_test_split, GridSearchCV\n",
    "from sklearn.metrics import confusion_matrix, classification_report, accuracy_score\n",
    "\n",
    "######-ANN\n",
    "from sklearn.neural_network import MLPClassifier\n",
    "from sklearn.preprocessing import StandardScaler\n",
    "\n",
    "\n",
    "######-RF\n",
    "from sklearn import tree\n",
    "from sklearn.tree import DecisionTreeClassifier"
   ]
  },
  {
   "cell_type": "markdown",
   "metadata": {},
   "source": [
    "# Data Preparation"
   ]
  },
  {
   "cell_type": "code",
   "execution_count": 2,
   "metadata": {
    "id": "o3Y1T80HvTAW"
   },
   "outputs": [],
   "source": [
    " with open('Cleaned-Data.csv') as csv_file:\n",
    "    data = list(csv.reader(csv_file, delimiter='\\t'))\n",
    "    r = len(data)"
   ]
  },
  {
   "cell_type": "code",
   "execution_count": 3,
   "metadata": {},
   "outputs": [],
   "source": [
    "df = pd.read_csv('Cleaned-Data.csv',na_values=\"?\" )"
   ]
  },
  {
   "cell_type": "code",
   "execution_count": 4,
   "metadata": {},
   "outputs": [
    {
     "data": {
      "text/html": [
       "<div>\n",
       "<style scoped>\n",
       "    .dataframe tbody tr th:only-of-type {\n",
       "        vertical-align: middle;\n",
       "    }\n",
       "\n",
       "    .dataframe tbody tr th {\n",
       "        vertical-align: top;\n",
       "    }\n",
       "\n",
       "    .dataframe thead th {\n",
       "        text-align: right;\n",
       "    }\n",
       "</style>\n",
       "<table border=\"1\" class=\"dataframe\">\n",
       "  <thead>\n",
       "    <tr style=\"text-align: right;\">\n",
       "      <th></th>\n",
       "      <th>Fever</th>\n",
       "      <th>Tiredness</th>\n",
       "      <th>Dry-Cough</th>\n",
       "      <th>Difficulty-in-Breathing</th>\n",
       "      <th>Sore-Throat</th>\n",
       "      <th>None_Sympton</th>\n",
       "      <th>Pains</th>\n",
       "      <th>Nasal-Congestion</th>\n",
       "      <th>Runny-Nose</th>\n",
       "      <th>Diarrhea</th>\n",
       "      <th>...</th>\n",
       "      <th>Gender_Male</th>\n",
       "      <th>Gender_Transgender</th>\n",
       "      <th>Severity_Mild</th>\n",
       "      <th>Severity_Moderate</th>\n",
       "      <th>Severity_None</th>\n",
       "      <th>Severity_Severe</th>\n",
       "      <th>Contact_Dont-Know</th>\n",
       "      <th>Contact_No</th>\n",
       "      <th>Contact_Yes</th>\n",
       "      <th>Country</th>\n",
       "    </tr>\n",
       "  </thead>\n",
       "  <tbody>\n",
       "    <tr>\n",
       "      <th>0</th>\n",
       "      <td>1</td>\n",
       "      <td>1</td>\n",
       "      <td>1</td>\n",
       "      <td>1</td>\n",
       "      <td>1</td>\n",
       "      <td>0</td>\n",
       "      <td>1</td>\n",
       "      <td>1</td>\n",
       "      <td>1</td>\n",
       "      <td>1</td>\n",
       "      <td>...</td>\n",
       "      <td>1</td>\n",
       "      <td>0</td>\n",
       "      <td>1</td>\n",
       "      <td>0</td>\n",
       "      <td>0</td>\n",
       "      <td>0</td>\n",
       "      <td>0</td>\n",
       "      <td>0</td>\n",
       "      <td>1</td>\n",
       "      <td>China</td>\n",
       "    </tr>\n",
       "    <tr>\n",
       "      <th>1</th>\n",
       "      <td>1</td>\n",
       "      <td>1</td>\n",
       "      <td>1</td>\n",
       "      <td>1</td>\n",
       "      <td>1</td>\n",
       "      <td>0</td>\n",
       "      <td>1</td>\n",
       "      <td>1</td>\n",
       "      <td>1</td>\n",
       "      <td>1</td>\n",
       "      <td>...</td>\n",
       "      <td>1</td>\n",
       "      <td>0</td>\n",
       "      <td>1</td>\n",
       "      <td>0</td>\n",
       "      <td>0</td>\n",
       "      <td>0</td>\n",
       "      <td>0</td>\n",
       "      <td>1</td>\n",
       "      <td>0</td>\n",
       "      <td>China</td>\n",
       "    </tr>\n",
       "    <tr>\n",
       "      <th>2</th>\n",
       "      <td>1</td>\n",
       "      <td>1</td>\n",
       "      <td>1</td>\n",
       "      <td>1</td>\n",
       "      <td>1</td>\n",
       "      <td>0</td>\n",
       "      <td>1</td>\n",
       "      <td>1</td>\n",
       "      <td>1</td>\n",
       "      <td>1</td>\n",
       "      <td>...</td>\n",
       "      <td>1</td>\n",
       "      <td>0</td>\n",
       "      <td>1</td>\n",
       "      <td>0</td>\n",
       "      <td>0</td>\n",
       "      <td>0</td>\n",
       "      <td>1</td>\n",
       "      <td>0</td>\n",
       "      <td>0</td>\n",
       "      <td>China</td>\n",
       "    </tr>\n",
       "    <tr>\n",
       "      <th>3</th>\n",
       "      <td>1</td>\n",
       "      <td>1</td>\n",
       "      <td>1</td>\n",
       "      <td>1</td>\n",
       "      <td>1</td>\n",
       "      <td>0</td>\n",
       "      <td>1</td>\n",
       "      <td>1</td>\n",
       "      <td>1</td>\n",
       "      <td>1</td>\n",
       "      <td>...</td>\n",
       "      <td>1</td>\n",
       "      <td>0</td>\n",
       "      <td>0</td>\n",
       "      <td>1</td>\n",
       "      <td>0</td>\n",
       "      <td>0</td>\n",
       "      <td>0</td>\n",
       "      <td>0</td>\n",
       "      <td>1</td>\n",
       "      <td>China</td>\n",
       "    </tr>\n",
       "    <tr>\n",
       "      <th>4</th>\n",
       "      <td>1</td>\n",
       "      <td>1</td>\n",
       "      <td>1</td>\n",
       "      <td>1</td>\n",
       "      <td>1</td>\n",
       "      <td>0</td>\n",
       "      <td>1</td>\n",
       "      <td>1</td>\n",
       "      <td>1</td>\n",
       "      <td>1</td>\n",
       "      <td>...</td>\n",
       "      <td>1</td>\n",
       "      <td>0</td>\n",
       "      <td>0</td>\n",
       "      <td>1</td>\n",
       "      <td>0</td>\n",
       "      <td>0</td>\n",
       "      <td>0</td>\n",
       "      <td>1</td>\n",
       "      <td>0</td>\n",
       "      <td>China</td>\n",
       "    </tr>\n",
       "  </tbody>\n",
       "</table>\n",
       "<p>5 rows × 27 columns</p>\n",
       "</div>"
      ],
      "text/plain": [
       "   Fever  Tiredness  Dry-Cough  Difficulty-in-Breathing  Sore-Throat  \\\n",
       "0      1          1          1                        1            1   \n",
       "1      1          1          1                        1            1   \n",
       "2      1          1          1                        1            1   \n",
       "3      1          1          1                        1            1   \n",
       "4      1          1          1                        1            1   \n",
       "\n",
       "   None_Sympton  Pains  Nasal-Congestion  Runny-Nose  Diarrhea  ...  \\\n",
       "0             0      1                 1           1         1  ...   \n",
       "1             0      1                 1           1         1  ...   \n",
       "2             0      1                 1           1         1  ...   \n",
       "3             0      1                 1           1         1  ...   \n",
       "4             0      1                 1           1         1  ...   \n",
       "\n",
       "   Gender_Male  Gender_Transgender  Severity_Mild  Severity_Moderate  \\\n",
       "0            1                   0              1                  0   \n",
       "1            1                   0              1                  0   \n",
       "2            1                   0              1                  0   \n",
       "3            1                   0              0                  1   \n",
       "4            1                   0              0                  1   \n",
       "\n",
       "   Severity_None  Severity_Severe  Contact_Dont-Know  Contact_No  Contact_Yes  \\\n",
       "0              0                0                  0           0            1   \n",
       "1              0                0                  0           1            0   \n",
       "2              0                0                  1           0            0   \n",
       "3              0                0                  0           0            1   \n",
       "4              0                0                  0           1            0   \n",
       "\n",
       "   Country  \n",
       "0    China  \n",
       "1    China  \n",
       "2    China  \n",
       "3    China  \n",
       "4    China  \n",
       "\n",
       "[5 rows x 27 columns]"
      ]
     },
     "execution_count": 4,
     "metadata": {},
     "output_type": "execute_result"
    }
   ],
   "source": [
    "df.head()"
   ]
  },
  {
   "cell_type": "code",
   "execution_count": 5,
   "metadata": {
    "colab": {
     "base_uri": "https://localhost:8080/"
    },
    "id": "oJ2e4Gk0vi20",
    "outputId": "c4a14df9-c95e-4e06-c497-a828d354e5d0"
   },
   "outputs": [
    {
     "data": {
      "text/html": [
       "<div>\n",
       "<style scoped>\n",
       "    .dataframe tbody tr th:only-of-type {\n",
       "        vertical-align: middle;\n",
       "    }\n",
       "\n",
       "    .dataframe tbody tr th {\n",
       "        vertical-align: top;\n",
       "    }\n",
       "\n",
       "    .dataframe thead th {\n",
       "        text-align: right;\n",
       "    }\n",
       "</style>\n",
       "<table border=\"1\" class=\"dataframe\">\n",
       "  <thead>\n",
       "    <tr style=\"text-align: right;\">\n",
       "      <th></th>\n",
       "      <th>Country</th>\n",
       "    </tr>\n",
       "  </thead>\n",
       "  <tbody>\n",
       "    <tr>\n",
       "      <th>0</th>\n",
       "      <td>China</td>\n",
       "    </tr>\n",
       "    <tr>\n",
       "      <th>1</th>\n",
       "      <td>China</td>\n",
       "    </tr>\n",
       "    <tr>\n",
       "      <th>2</th>\n",
       "      <td>China</td>\n",
       "    </tr>\n",
       "    <tr>\n",
       "      <th>3</th>\n",
       "      <td>China</td>\n",
       "    </tr>\n",
       "    <tr>\n",
       "      <th>4</th>\n",
       "      <td>China</td>\n",
       "    </tr>\n",
       "  </tbody>\n",
       "</table>\n",
       "</div>"
      ],
      "text/plain": [
       "  Country\n",
       "0   China\n",
       "1   China\n",
       "2   China\n",
       "3   China\n",
       "4   China"
      ]
     },
     "execution_count": 5,
     "metadata": {},
     "output_type": "execute_result"
    }
   ],
   "source": [
    "obj_df = df.select_dtypes(include=['object']).copy()\n",
    "obj_df.head()"
   ]
  },
  {
   "cell_type": "code",
   "execution_count": 6,
   "metadata": {},
   "outputs": [
    {
     "data": {
      "text/plain": [
       "Other                 31680\n",
       "France                31680\n",
       "Germany               31680\n",
       "Italy                 31680\n",
       "Iran                  31680\n",
       "Republic of Korean    31680\n",
       "UAE                   31680\n",
       "China                 31680\n",
       "Spain                 31680\n",
       "Other-EUR             31680\n",
       "Name: Country, dtype: int64"
      ]
     },
     "execution_count": 6,
     "metadata": {},
     "output_type": "execute_result"
    }
   ],
   "source": [
    "obj_df[\"Country\"].value_counts() #plot distribution"
   ]
  },
  {
   "cell_type": "code",
   "execution_count": 7,
   "metadata": {},
   "outputs": [],
   "source": [
    "cleanup_Countries = {\"Country\": {\"China\":0, \"UAE\":1, \"Iran\":2, \"France\":3, \"Republic of Korean\":4, \"Spain\":5, \"Italy\":6, \"Germany\":7, \"Other-EUR\":8, \"Other\":9}}"
   ]
  },
  {
   "cell_type": "code",
   "execution_count": 8,
   "metadata": {},
   "outputs": [],
   "source": [
    "obj_df = obj_df.replace(cleanup_Countries)"
   ]
  },
  {
   "cell_type": "code",
   "execution_count": 9,
   "metadata": {},
   "outputs": [
    {
     "data": {
      "text/html": [
       "<div>\n",
       "<style scoped>\n",
       "    .dataframe tbody tr th:only-of-type {\n",
       "        vertical-align: middle;\n",
       "    }\n",
       "\n",
       "    .dataframe tbody tr th {\n",
       "        vertical-align: top;\n",
       "    }\n",
       "\n",
       "    .dataframe thead th {\n",
       "        text-align: right;\n",
       "    }\n",
       "</style>\n",
       "<table border=\"1\" class=\"dataframe\">\n",
       "  <thead>\n",
       "    <tr style=\"text-align: right;\">\n",
       "      <th></th>\n",
       "      <th>Country</th>\n",
       "    </tr>\n",
       "  </thead>\n",
       "  <tbody>\n",
       "    <tr>\n",
       "      <th>0</th>\n",
       "      <td>0</td>\n",
       "    </tr>\n",
       "    <tr>\n",
       "      <th>1</th>\n",
       "      <td>0</td>\n",
       "    </tr>\n",
       "    <tr>\n",
       "      <th>2</th>\n",
       "      <td>0</td>\n",
       "    </tr>\n",
       "    <tr>\n",
       "      <th>3</th>\n",
       "      <td>0</td>\n",
       "    </tr>\n",
       "    <tr>\n",
       "      <th>4</th>\n",
       "      <td>0</td>\n",
       "    </tr>\n",
       "  </tbody>\n",
       "</table>\n",
       "</div>"
      ],
      "text/plain": [
       "   Country\n",
       "0        0\n",
       "1        0\n",
       "2        0\n",
       "3        0\n",
       "4        0"
      ]
     },
     "execution_count": 9,
     "metadata": {},
     "output_type": "execute_result"
    }
   ],
   "source": [
    "obj_df.head()"
   ]
  },
  {
   "cell_type": "code",
   "execution_count": 10,
   "metadata": {},
   "outputs": [],
   "source": [
    "df[\"Country\"] = obj_df"
   ]
  },
  {
   "cell_type": "code",
   "execution_count": 11,
   "metadata": {},
   "outputs": [
    {
     "data": {
      "text/html": [
       "<div>\n",
       "<style scoped>\n",
       "    .dataframe tbody tr th:only-of-type {\n",
       "        vertical-align: middle;\n",
       "    }\n",
       "\n",
       "    .dataframe tbody tr th {\n",
       "        vertical-align: top;\n",
       "    }\n",
       "\n",
       "    .dataframe thead th {\n",
       "        text-align: right;\n",
       "    }\n",
       "</style>\n",
       "<table border=\"1\" class=\"dataframe\">\n",
       "  <thead>\n",
       "    <tr style=\"text-align: right;\">\n",
       "      <th></th>\n",
       "      <th>Fever</th>\n",
       "      <th>Tiredness</th>\n",
       "      <th>Dry-Cough</th>\n",
       "      <th>Difficulty-in-Breathing</th>\n",
       "      <th>Sore-Throat</th>\n",
       "      <th>None_Sympton</th>\n",
       "      <th>Pains</th>\n",
       "      <th>Nasal-Congestion</th>\n",
       "      <th>Runny-Nose</th>\n",
       "      <th>Diarrhea</th>\n",
       "      <th>...</th>\n",
       "      <th>Age_25-59</th>\n",
       "      <th>Age_60+</th>\n",
       "      <th>Gender_Female</th>\n",
       "      <th>Gender_Male</th>\n",
       "      <th>Gender_Transgender</th>\n",
       "      <th>Contact_Dont-Know</th>\n",
       "      <th>Contact_No</th>\n",
       "      <th>Contact_Yes</th>\n",
       "      <th>Country</th>\n",
       "      <th>Condition</th>\n",
       "    </tr>\n",
       "  </thead>\n",
       "  <tbody>\n",
       "    <tr>\n",
       "      <th>0</th>\n",
       "      <td>1</td>\n",
       "      <td>1</td>\n",
       "      <td>1</td>\n",
       "      <td>1</td>\n",
       "      <td>1</td>\n",
       "      <td>0</td>\n",
       "      <td>1</td>\n",
       "      <td>1</td>\n",
       "      <td>1</td>\n",
       "      <td>1</td>\n",
       "      <td>...</td>\n",
       "      <td>0</td>\n",
       "      <td>0</td>\n",
       "      <td>0</td>\n",
       "      <td>1</td>\n",
       "      <td>0</td>\n",
       "      <td>0</td>\n",
       "      <td>0</td>\n",
       "      <td>1</td>\n",
       "      <td>0</td>\n",
       "      <td>[1, No, No, No]</td>\n",
       "    </tr>\n",
       "    <tr>\n",
       "      <th>1</th>\n",
       "      <td>1</td>\n",
       "      <td>1</td>\n",
       "      <td>1</td>\n",
       "      <td>1</td>\n",
       "      <td>1</td>\n",
       "      <td>0</td>\n",
       "      <td>1</td>\n",
       "      <td>1</td>\n",
       "      <td>1</td>\n",
       "      <td>1</td>\n",
       "      <td>...</td>\n",
       "      <td>0</td>\n",
       "      <td>0</td>\n",
       "      <td>0</td>\n",
       "      <td>1</td>\n",
       "      <td>0</td>\n",
       "      <td>0</td>\n",
       "      <td>1</td>\n",
       "      <td>0</td>\n",
       "      <td>0</td>\n",
       "      <td>[1, No, No, No]</td>\n",
       "    </tr>\n",
       "    <tr>\n",
       "      <th>2</th>\n",
       "      <td>1</td>\n",
       "      <td>1</td>\n",
       "      <td>1</td>\n",
       "      <td>1</td>\n",
       "      <td>1</td>\n",
       "      <td>0</td>\n",
       "      <td>1</td>\n",
       "      <td>1</td>\n",
       "      <td>1</td>\n",
       "      <td>1</td>\n",
       "      <td>...</td>\n",
       "      <td>0</td>\n",
       "      <td>0</td>\n",
       "      <td>0</td>\n",
       "      <td>1</td>\n",
       "      <td>0</td>\n",
       "      <td>1</td>\n",
       "      <td>0</td>\n",
       "      <td>0</td>\n",
       "      <td>0</td>\n",
       "      <td>[1, No, No, No]</td>\n",
       "    </tr>\n",
       "    <tr>\n",
       "      <th>3</th>\n",
       "      <td>1</td>\n",
       "      <td>1</td>\n",
       "      <td>1</td>\n",
       "      <td>1</td>\n",
       "      <td>1</td>\n",
       "      <td>0</td>\n",
       "      <td>1</td>\n",
       "      <td>1</td>\n",
       "      <td>1</td>\n",
       "      <td>1</td>\n",
       "      <td>...</td>\n",
       "      <td>0</td>\n",
       "      <td>0</td>\n",
       "      <td>0</td>\n",
       "      <td>1</td>\n",
       "      <td>0</td>\n",
       "      <td>0</td>\n",
       "      <td>0</td>\n",
       "      <td>1</td>\n",
       "      <td>0</td>\n",
       "      <td>[No, 2, No, No]</td>\n",
       "    </tr>\n",
       "    <tr>\n",
       "      <th>4</th>\n",
       "      <td>1</td>\n",
       "      <td>1</td>\n",
       "      <td>1</td>\n",
       "      <td>1</td>\n",
       "      <td>1</td>\n",
       "      <td>0</td>\n",
       "      <td>1</td>\n",
       "      <td>1</td>\n",
       "      <td>1</td>\n",
       "      <td>1</td>\n",
       "      <td>...</td>\n",
       "      <td>0</td>\n",
       "      <td>0</td>\n",
       "      <td>0</td>\n",
       "      <td>1</td>\n",
       "      <td>0</td>\n",
       "      <td>0</td>\n",
       "      <td>1</td>\n",
       "      <td>0</td>\n",
       "      <td>0</td>\n",
       "      <td>[No, 2, No, No]</td>\n",
       "    </tr>\n",
       "    <tr>\n",
       "      <th>...</th>\n",
       "      <td>...</td>\n",
       "      <td>...</td>\n",
       "      <td>...</td>\n",
       "      <td>...</td>\n",
       "      <td>...</td>\n",
       "      <td>...</td>\n",
       "      <td>...</td>\n",
       "      <td>...</td>\n",
       "      <td>...</td>\n",
       "      <td>...</td>\n",
       "      <td>...</td>\n",
       "      <td>...</td>\n",
       "      <td>...</td>\n",
       "      <td>...</td>\n",
       "      <td>...</td>\n",
       "      <td>...</td>\n",
       "      <td>...</td>\n",
       "      <td>...</td>\n",
       "      <td>...</td>\n",
       "      <td>...</td>\n",
       "      <td>...</td>\n",
       "    </tr>\n",
       "    <tr>\n",
       "      <th>316795</th>\n",
       "      <td>0</td>\n",
       "      <td>0</td>\n",
       "      <td>0</td>\n",
       "      <td>0</td>\n",
       "      <td>0</td>\n",
       "      <td>1</td>\n",
       "      <td>0</td>\n",
       "      <td>0</td>\n",
       "      <td>0</td>\n",
       "      <td>0</td>\n",
       "      <td>...</td>\n",
       "      <td>0</td>\n",
       "      <td>1</td>\n",
       "      <td>0</td>\n",
       "      <td>0</td>\n",
       "      <td>1</td>\n",
       "      <td>0</td>\n",
       "      <td>1</td>\n",
       "      <td>0</td>\n",
       "      <td>9</td>\n",
       "      <td>[No, No, No, 3]</td>\n",
       "    </tr>\n",
       "    <tr>\n",
       "      <th>316796</th>\n",
       "      <td>0</td>\n",
       "      <td>0</td>\n",
       "      <td>0</td>\n",
       "      <td>0</td>\n",
       "      <td>0</td>\n",
       "      <td>1</td>\n",
       "      <td>0</td>\n",
       "      <td>0</td>\n",
       "      <td>0</td>\n",
       "      <td>0</td>\n",
       "      <td>...</td>\n",
       "      <td>0</td>\n",
       "      <td>1</td>\n",
       "      <td>0</td>\n",
       "      <td>0</td>\n",
       "      <td>1</td>\n",
       "      <td>1</td>\n",
       "      <td>0</td>\n",
       "      <td>0</td>\n",
       "      <td>9</td>\n",
       "      <td>[No, No, No, 3]</td>\n",
       "    </tr>\n",
       "    <tr>\n",
       "      <th>316797</th>\n",
       "      <td>0</td>\n",
       "      <td>0</td>\n",
       "      <td>0</td>\n",
       "      <td>0</td>\n",
       "      <td>0</td>\n",
       "      <td>1</td>\n",
       "      <td>0</td>\n",
       "      <td>0</td>\n",
       "      <td>0</td>\n",
       "      <td>0</td>\n",
       "      <td>...</td>\n",
       "      <td>0</td>\n",
       "      <td>1</td>\n",
       "      <td>0</td>\n",
       "      <td>0</td>\n",
       "      <td>1</td>\n",
       "      <td>0</td>\n",
       "      <td>0</td>\n",
       "      <td>1</td>\n",
       "      <td>9</td>\n",
       "      <td>[No, No, 0, No]</td>\n",
       "    </tr>\n",
       "    <tr>\n",
       "      <th>316798</th>\n",
       "      <td>0</td>\n",
       "      <td>0</td>\n",
       "      <td>0</td>\n",
       "      <td>0</td>\n",
       "      <td>0</td>\n",
       "      <td>1</td>\n",
       "      <td>0</td>\n",
       "      <td>0</td>\n",
       "      <td>0</td>\n",
       "      <td>0</td>\n",
       "      <td>...</td>\n",
       "      <td>0</td>\n",
       "      <td>1</td>\n",
       "      <td>0</td>\n",
       "      <td>0</td>\n",
       "      <td>1</td>\n",
       "      <td>0</td>\n",
       "      <td>1</td>\n",
       "      <td>0</td>\n",
       "      <td>9</td>\n",
       "      <td>[No, No, 0, No]</td>\n",
       "    </tr>\n",
       "    <tr>\n",
       "      <th>316799</th>\n",
       "      <td>0</td>\n",
       "      <td>0</td>\n",
       "      <td>0</td>\n",
       "      <td>0</td>\n",
       "      <td>0</td>\n",
       "      <td>1</td>\n",
       "      <td>0</td>\n",
       "      <td>0</td>\n",
       "      <td>0</td>\n",
       "      <td>0</td>\n",
       "      <td>...</td>\n",
       "      <td>0</td>\n",
       "      <td>1</td>\n",
       "      <td>0</td>\n",
       "      <td>0</td>\n",
       "      <td>1</td>\n",
       "      <td>1</td>\n",
       "      <td>0</td>\n",
       "      <td>0</td>\n",
       "      <td>9</td>\n",
       "      <td>[No, No, 0, No]</td>\n",
       "    </tr>\n",
       "  </tbody>\n",
       "</table>\n",
       "<p>316800 rows × 24 columns</p>\n",
       "</div>"
      ],
      "text/plain": [
       "        Fever  Tiredness  Dry-Cough  Difficulty-in-Breathing  Sore-Throat  \\\n",
       "0           1          1          1                        1            1   \n",
       "1           1          1          1                        1            1   \n",
       "2           1          1          1                        1            1   \n",
       "3           1          1          1                        1            1   \n",
       "4           1          1          1                        1            1   \n",
       "...       ...        ...        ...                      ...          ...   \n",
       "316795      0          0          0                        0            0   \n",
       "316796      0          0          0                        0            0   \n",
       "316797      0          0          0                        0            0   \n",
       "316798      0          0          0                        0            0   \n",
       "316799      0          0          0                        0            0   \n",
       "\n",
       "        None_Sympton  Pains  Nasal-Congestion  Runny-Nose  Diarrhea  ...  \\\n",
       "0                  0      1                 1           1         1  ...   \n",
       "1                  0      1                 1           1         1  ...   \n",
       "2                  0      1                 1           1         1  ...   \n",
       "3                  0      1                 1           1         1  ...   \n",
       "4                  0      1                 1           1         1  ...   \n",
       "...              ...    ...               ...         ...       ...  ...   \n",
       "316795             1      0                 0           0         0  ...   \n",
       "316796             1      0                 0           0         0  ...   \n",
       "316797             1      0                 0           0         0  ...   \n",
       "316798             1      0                 0           0         0  ...   \n",
       "316799             1      0                 0           0         0  ...   \n",
       "\n",
       "        Age_25-59  Age_60+  Gender_Female  Gender_Male  Gender_Transgender  \\\n",
       "0               0        0              0            1                   0   \n",
       "1               0        0              0            1                   0   \n",
       "2               0        0              0            1                   0   \n",
       "3               0        0              0            1                   0   \n",
       "4               0        0              0            1                   0   \n",
       "...           ...      ...            ...          ...                 ...   \n",
       "316795          0        1              0            0                   1   \n",
       "316796          0        1              0            0                   1   \n",
       "316797          0        1              0            0                   1   \n",
       "316798          0        1              0            0                   1   \n",
       "316799          0        1              0            0                   1   \n",
       "\n",
       "        Contact_Dont-Know  Contact_No  Contact_Yes  Country        Condition  \n",
       "0                       0           0            1        0  [1, No, No, No]  \n",
       "1                       0           1            0        0  [1, No, No, No]  \n",
       "2                       1           0            0        0  [1, No, No, No]  \n",
       "3                       0           0            1        0  [No, 2, No, No]  \n",
       "4                       0           1            0        0  [No, 2, No, No]  \n",
       "...                   ...         ...          ...      ...              ...  \n",
       "316795                  0           1            0        9  [No, No, No, 3]  \n",
       "316796                  1           0            0        9  [No, No, No, 3]  \n",
       "316797                  0           0            1        9  [No, No, 0, No]  \n",
       "316798                  0           1            0        9  [No, No, 0, No]  \n",
       "316799                  1           0            0        9  [No, No, 0, No]  \n",
       "\n",
       "[316800 rows x 24 columns]"
      ]
     },
     "execution_count": 11,
     "metadata": {},
     "output_type": "execute_result"
    }
   ],
   "source": [
    "severity_columns = df.filter(like='Severity_').columns\n",
    "gender_columns = df.filter(like='Gender_').columns\n",
    "\n",
    "df['Severity_None'].replace({1:'0',0:'No'},inplace =True)\n",
    "df['Severity_Mild'].replace({1:'1',0:'No'},inplace =True)\n",
    "df['Severity_Moderate'].replace({1:'2',0:'No'},inplace =True)\n",
    "df['Severity_Severe'].replace({1:'3',0:'No'},inplace =True)\n",
    "\n",
    "df['Condition'] = df[severity_columns].values.tolist()\n",
    "\n",
    "df.drop(columns=['Severity_None','Severity_Mild','Severity_Moderate','Severity_Severe'])"
   ]
  },
  {
   "cell_type": "code",
   "execution_count": 12,
   "metadata": {},
   "outputs": [],
   "source": [
    "def removing(list1):\n",
    "    list1 = set(list1) \n",
    "    list1.discard(\"No\")\n",
    "    a = ''.join(list1)\n",
    "    return a"
   ]
  },
  {
   "cell_type": "code",
   "execution_count": 13,
   "metadata": {},
   "outputs": [],
   "source": [
    "df['Condition'] = df['Condition'].apply(removing)"
   ]
  },
  {
   "cell_type": "code",
   "execution_count": 14,
   "metadata": {},
   "outputs": [
    {
     "data": {
      "text/html": [
       "<div>\n",
       "<style scoped>\n",
       "    .dataframe tbody tr th:only-of-type {\n",
       "        vertical-align: middle;\n",
       "    }\n",
       "\n",
       "    .dataframe tbody tr th {\n",
       "        vertical-align: top;\n",
       "    }\n",
       "\n",
       "    .dataframe thead th {\n",
       "        text-align: right;\n",
       "    }\n",
       "</style>\n",
       "<table border=\"1\" class=\"dataframe\">\n",
       "  <thead>\n",
       "    <tr style=\"text-align: right;\">\n",
       "      <th></th>\n",
       "      <th>Fever</th>\n",
       "      <th>Tiredness</th>\n",
       "      <th>Dry-Cough</th>\n",
       "      <th>Difficulty-in-Breathing</th>\n",
       "      <th>Sore-Throat</th>\n",
       "      <th>None_Sympton</th>\n",
       "      <th>Pains</th>\n",
       "      <th>Nasal-Congestion</th>\n",
       "      <th>Runny-Nose</th>\n",
       "      <th>Diarrhea</th>\n",
       "      <th>...</th>\n",
       "      <th>Gender_Transgender</th>\n",
       "      <th>Severity_Mild</th>\n",
       "      <th>Severity_Moderate</th>\n",
       "      <th>Severity_None</th>\n",
       "      <th>Severity_Severe</th>\n",
       "      <th>Contact_Dont-Know</th>\n",
       "      <th>Contact_No</th>\n",
       "      <th>Contact_Yes</th>\n",
       "      <th>Country</th>\n",
       "      <th>Condition</th>\n",
       "    </tr>\n",
       "  </thead>\n",
       "  <tbody>\n",
       "    <tr>\n",
       "      <th>0</th>\n",
       "      <td>1</td>\n",
       "      <td>1</td>\n",
       "      <td>1</td>\n",
       "      <td>1</td>\n",
       "      <td>1</td>\n",
       "      <td>0</td>\n",
       "      <td>1</td>\n",
       "      <td>1</td>\n",
       "      <td>1</td>\n",
       "      <td>1</td>\n",
       "      <td>...</td>\n",
       "      <td>0</td>\n",
       "      <td>1</td>\n",
       "      <td>No</td>\n",
       "      <td>No</td>\n",
       "      <td>No</td>\n",
       "      <td>0</td>\n",
       "      <td>0</td>\n",
       "      <td>1</td>\n",
       "      <td>0</td>\n",
       "      <td>1</td>\n",
       "    </tr>\n",
       "    <tr>\n",
       "      <th>1</th>\n",
       "      <td>1</td>\n",
       "      <td>1</td>\n",
       "      <td>1</td>\n",
       "      <td>1</td>\n",
       "      <td>1</td>\n",
       "      <td>0</td>\n",
       "      <td>1</td>\n",
       "      <td>1</td>\n",
       "      <td>1</td>\n",
       "      <td>1</td>\n",
       "      <td>...</td>\n",
       "      <td>0</td>\n",
       "      <td>1</td>\n",
       "      <td>No</td>\n",
       "      <td>No</td>\n",
       "      <td>No</td>\n",
       "      <td>0</td>\n",
       "      <td>1</td>\n",
       "      <td>0</td>\n",
       "      <td>0</td>\n",
       "      <td>1</td>\n",
       "    </tr>\n",
       "    <tr>\n",
       "      <th>2</th>\n",
       "      <td>1</td>\n",
       "      <td>1</td>\n",
       "      <td>1</td>\n",
       "      <td>1</td>\n",
       "      <td>1</td>\n",
       "      <td>0</td>\n",
       "      <td>1</td>\n",
       "      <td>1</td>\n",
       "      <td>1</td>\n",
       "      <td>1</td>\n",
       "      <td>...</td>\n",
       "      <td>0</td>\n",
       "      <td>1</td>\n",
       "      <td>No</td>\n",
       "      <td>No</td>\n",
       "      <td>No</td>\n",
       "      <td>1</td>\n",
       "      <td>0</td>\n",
       "      <td>0</td>\n",
       "      <td>0</td>\n",
       "      <td>1</td>\n",
       "    </tr>\n",
       "    <tr>\n",
       "      <th>3</th>\n",
       "      <td>1</td>\n",
       "      <td>1</td>\n",
       "      <td>1</td>\n",
       "      <td>1</td>\n",
       "      <td>1</td>\n",
       "      <td>0</td>\n",
       "      <td>1</td>\n",
       "      <td>1</td>\n",
       "      <td>1</td>\n",
       "      <td>1</td>\n",
       "      <td>...</td>\n",
       "      <td>0</td>\n",
       "      <td>No</td>\n",
       "      <td>2</td>\n",
       "      <td>No</td>\n",
       "      <td>No</td>\n",
       "      <td>0</td>\n",
       "      <td>0</td>\n",
       "      <td>1</td>\n",
       "      <td>0</td>\n",
       "      <td>2</td>\n",
       "    </tr>\n",
       "    <tr>\n",
       "      <th>4</th>\n",
       "      <td>1</td>\n",
       "      <td>1</td>\n",
       "      <td>1</td>\n",
       "      <td>1</td>\n",
       "      <td>1</td>\n",
       "      <td>0</td>\n",
       "      <td>1</td>\n",
       "      <td>1</td>\n",
       "      <td>1</td>\n",
       "      <td>1</td>\n",
       "      <td>...</td>\n",
       "      <td>0</td>\n",
       "      <td>No</td>\n",
       "      <td>2</td>\n",
       "      <td>No</td>\n",
       "      <td>No</td>\n",
       "      <td>0</td>\n",
       "      <td>1</td>\n",
       "      <td>0</td>\n",
       "      <td>0</td>\n",
       "      <td>2</td>\n",
       "    </tr>\n",
       "  </tbody>\n",
       "</table>\n",
       "<p>5 rows × 28 columns</p>\n",
       "</div>"
      ],
      "text/plain": [
       "   Fever  Tiredness  Dry-Cough  Difficulty-in-Breathing  Sore-Throat  \\\n",
       "0      1          1          1                        1            1   \n",
       "1      1          1          1                        1            1   \n",
       "2      1          1          1                        1            1   \n",
       "3      1          1          1                        1            1   \n",
       "4      1          1          1                        1            1   \n",
       "\n",
       "   None_Sympton  Pains  Nasal-Congestion  Runny-Nose  Diarrhea  ...  \\\n",
       "0             0      1                 1           1         1  ...   \n",
       "1             0      1                 1           1         1  ...   \n",
       "2             0      1                 1           1         1  ...   \n",
       "3             0      1                 1           1         1  ...   \n",
       "4             0      1                 1           1         1  ...   \n",
       "\n",
       "   Gender_Transgender  Severity_Mild  Severity_Moderate  Severity_None  \\\n",
       "0                   0              1                 No             No   \n",
       "1                   0              1                 No             No   \n",
       "2                   0              1                 No             No   \n",
       "3                   0             No                  2             No   \n",
       "4                   0             No                  2             No   \n",
       "\n",
       "   Severity_Severe  Contact_Dont-Know  Contact_No  Contact_Yes  Country  \\\n",
       "0               No                  0           0            1        0   \n",
       "1               No                  0           1            0        0   \n",
       "2               No                  1           0            0        0   \n",
       "3               No                  0           0            1        0   \n",
       "4               No                  0           1            0        0   \n",
       "\n",
       "  Condition  \n",
       "0         1  \n",
       "1         1  \n",
       "2         1  \n",
       "3         2  \n",
       "4         2  \n",
       "\n",
       "[5 rows x 28 columns]"
      ]
     },
     "execution_count": 14,
     "metadata": {},
     "output_type": "execute_result"
    }
   ],
   "source": [
    "df.head()"
   ]
  },
  {
   "cell_type": "code",
   "execution_count": 15,
   "metadata": {},
   "outputs": [],
   "source": [
    "headers= df.columns.tolist()"
   ]
  },
  {
   "cell_type": "code",
   "execution_count": 16,
   "metadata": {},
   "outputs": [],
   "source": [
    "df = df.sample(n=30000, replace=True,random_state=1)"
   ]
  },
  {
   "cell_type": "code",
   "execution_count": 17,
   "metadata": {},
   "outputs": [],
   "source": [
    "X= pd.DataFrame.to_numpy(df.drop(['Condition'],axis=1))\n",
    "y= pd.DataFrame.to_numpy(df['Condition'])"
   ]
  },
  {
   "cell_type": "code",
   "execution_count": 18,
   "metadata": {},
   "outputs": [],
   "source": [
    "X= np.delete(X,19,1)\n",
    "X= np.delete(X,19,1)\n",
    "X= np.delete(X,19,1)\n",
    "X= np.delete(X,19,1)"
   ]
  },
  {
   "cell_type": "code",
   "execution_count": 19,
   "metadata": {},
   "outputs": [
    {
     "name": "stdout",
     "output_type": "stream",
     "text": [
      "['Fever', 'Tiredness', 'Dry-Cough', 'Difficulty-in-Breathing', 'Sore-Throat', 'None_Sympton', 'Pains', 'Nasal-Congestion', 'Runny-Nose', 'Diarrhea', 'None_Experiencing', 'Age_0-9', 'Age_10-19', 'Age_20-24', 'Age_25-59', 'Age_60+', 'Gender_Female', 'Gender_Male', 'Gender_Transgender', 'Severity_Mild', 'Severity_Moderate', 'Severity_None', 'Severity_Severe', 'Contact_Dont-Know', 'Contact_No', 'Contact_Yes', 'Country', 'Condition']\n",
      "['Fever', 'Tiredness', 'Dry-Cough', 'Difficulty-in-Breathing', 'Sore-Throat', 'None_Sympton', 'Pains', 'Nasal-Congestion', 'Runny-Nose', 'Diarrhea', 'None_Experiencing', 'Age_0-9', 'Age_10-19', 'Age_20-24', 'Age_25-59', 'Age_60+', 'Gender_Female', 'Gender_Male', 'Gender_Transgender', 'Contact_Dont-Know', 'Contact_No', 'Contact_Yes', 'Country']\n"
     ]
    }
   ],
   "source": [
    "print(headers)\n",
    "headers.remove('Severity_Mild')\n",
    "headers.remove('Severity_Moderate')\n",
    "headers.remove('Severity_None')\n",
    "headers.remove('Severity_Severe')\n",
    "headers.remove('Condition')\n",
    "print(headers)"
   ]
  },
  {
   "cell_type": "code",
   "execution_count": 20,
   "metadata": {},
   "outputs": [
    {
     "data": {
      "text/plain": [
       "(30000,)"
      ]
     },
     "execution_count": 20,
     "metadata": {},
     "output_type": "execute_result"
    }
   ],
   "source": [
    "y.shape"
   ]
  },
  {
   "cell_type": "markdown",
   "metadata": {},
   "source": [
    "____"
   ]
  },
  {
   "cell_type": "markdown",
   "metadata": {},
   "source": [
    "## Feature Selection: Chi Square"
   ]
  },
  {
   "cell_type": "code",
   "execution_count": 21,
   "metadata": {},
   "outputs": [],
   "source": [
    "def get_max(x):\n",
    "    max_val = 0\n",
    "    for i in x:\n",
    "        if i>max_val:\n",
    "            max_val = i\n",
    "    return max_val"
   ]
  },
  {
   "cell_type": "code",
   "execution_count": 22,
   "metadata": {},
   "outputs": [],
   "source": [
    "def get_min(x):\n",
    "    min_val = 99\n",
    "    for i in x:\n",
    "        if i<min_val:\n",
    "            min_val = i\n",
    "    return min_val"
   ]
  },
  {
   "cell_type": "code",
   "execution_count": 23,
   "metadata": {},
   "outputs": [],
   "source": [
    "y = y.astype(np.int)"
   ]
  },
  {
   "cell_type": "markdown",
   "metadata": {},
   "source": [
    "### Contingency Table"
   ]
  },
  {
   "cell_type": "code",
   "execution_count": 24,
   "metadata": {},
   "outputs": [],
   "source": [
    "contingency_table = {headers[0]:{0,0}}\n",
    "\n",
    "for x_col in range(X.shape[1]):\n",
    "    col = X[:,x_col]\n",
    "    h = headers[x_col]\n",
    "    \n",
    "    contingency_table[headers[x_col]] = {}\n",
    "    \n",
    "    for val_x in range(get_max(col)+1):\n",
    "        count=0\n",
    "        for val_y in range(get_max(y)+1):\n",
    "            \n",
    "            contingency_table[headers[x_col]][val_x,val_y]=  0"
   ]
  },
  {
   "cell_type": "code",
   "execution_count": 25,
   "metadata": {},
   "outputs": [
    {
     "name": "stdout",
     "output_type": "stream",
     "text": [
      "Fever\n",
      "Tiredness\n",
      "Dry-Cough\n",
      "Difficulty-in-Breathing\n",
      "Sore-Throat\n",
      "None_Sympton\n",
      "Pains\n",
      "Nasal-Congestion\n",
      "Runny-Nose\n",
      "Diarrhea\n",
      "None_Experiencing\n",
      "Age_0-9\n",
      "Age_10-19\n",
      "Age_20-24\n",
      "Age_25-59\n",
      "Age_60+\n",
      "Gender_Female\n",
      "Gender_Male\n",
      "Gender_Transgender\n",
      "Contact_Dont-Know\n",
      "Contact_No\n",
      "Contact_Yes\n",
      "Country\n"
     ]
    }
   ],
   "source": [
    "for x_col in range(X.shape[1]):\n",
    "    col = X[:,x_col]\n",
    "    print(headers[x_col])\n",
    "    \n",
    "    for i in range(col.shape[0]):\n",
    "        contingency_table[headers[x_col]][col[i],y[i]] +=1"
   ]
  },
  {
   "cell_type": "markdown",
   "metadata": {},
   "source": [
    "#### Degrees of Freedom"
   ]
  },
  {
   "cell_type": "code",
   "execution_count": 26,
   "metadata": {},
   "outputs": [
    {
     "name": "stdout",
     "output_type": "stream",
     "text": [
      "Fever\n",
      "Tiredness\n",
      "Dry-Cough\n",
      "Difficulty-in-Breathing\n",
      "Sore-Throat\n",
      "None_Sympton\n",
      "Pains\n",
      "Nasal-Congestion\n",
      "Runny-Nose\n",
      "Diarrhea\n",
      "None_Experiencing\n",
      "Age_0-9\n",
      "Age_10-19\n",
      "Age_20-24\n",
      "Age_25-59\n",
      "Age_60+\n",
      "Gender_Female\n",
      "Gender_Male\n",
      "Gender_Transgender\n",
      "Contact_Dont-Know\n",
      "Contact_No\n",
      "Contact_Yes\n",
      "Country\n"
     ]
    }
   ],
   "source": [
    "df ={}\n",
    "\n",
    "for x_col in range(X.shape[1]):\n",
    "    col = X[:,x_col]\n",
    "    print(headers[x_col])\n",
    "    \n",
    "    rows = (get_max(col)+1)\n",
    "    cols = (get_max(y)+1)\n",
    "    \n",
    "    df[headers[x_col]] = (rows-1)*(cols-1)\n",
    "    "
   ]
  },
  {
   "cell_type": "markdown",
   "metadata": {},
   "source": [
    "Degrees of Freedom for Contingency Tables = (r-1)*(c-1)"
   ]
  },
  {
   "cell_type": "code",
   "execution_count": 27,
   "metadata": {},
   "outputs": [
    {
     "name": "stdout",
     "output_type": "stream",
     "text": [
      "{'Fever': 3, 'Tiredness': 3, 'Dry-Cough': 3, 'Difficulty-in-Breathing': 3, 'Sore-Throat': 3, 'None_Sympton': 3, 'Pains': 3, 'Nasal-Congestion': 3, 'Runny-Nose': 3, 'Diarrhea': 3, 'None_Experiencing': 3, 'Age_0-9': 3, 'Age_10-19': 3, 'Age_20-24': 3, 'Age_25-59': 3, 'Age_60+': 3, 'Gender_Female': 3, 'Gender_Male': 3, 'Gender_Transgender': 3, 'Contact_Dont-Know': 3, 'Contact_No': 3, 'Contact_Yes': 3, 'Country': 27}\n"
     ]
    }
   ],
   "source": [
    "print(df)"
   ]
  },
  {
   "cell_type": "markdown",
   "metadata": {},
   "source": [
    "### Expected Values"
   ]
  },
  {
   "cell_type": "code",
   "execution_count": 28,
   "metadata": {},
   "outputs": [],
   "source": [
    "expected_values = {headers[0]:{0,0}}\n",
    "\n",
    "for x_col in range(X.shape[1]):\n",
    "    col = X[:,x_col]\n",
    "    h = headers[x_col]\n",
    "    \n",
    "    expected_values[headers[x_col]] = {}\n",
    "    Total = np.sum(list(contingency_table[headers[x_col]].values()))\n",
    "    rowstotal = []\n",
    "    colstotal = []\n",
    "    \n",
    "    for val_x in range(get_max(col)+1):\n",
    "        \n",
    "        for val_y in range(get_max(y)+1):\n",
    "            rowstotal.append(contingency_table[headers[x_col]][val_x,val_y]) \n",
    "            \n",
    "    for val_y in range(get_max(y)+1):\n",
    "        \n",
    "        for val_x in range(get_max(col)+1):\n",
    "            colstotal.append(contingency_table[headers[x_col]][val_x,val_y])\n",
    "    \n",
    "    for val_x in range(get_max(col)+1):\n",
    "        \n",
    "        for val_y in range(get_max(y)+1):\n",
    "            p = (rowstotal[val_x]/Total)*(colstotal[val_y]/Total)\n",
    "            expected_values[headers[x_col]][val_x,val_y]=  p*Total\n",
    "            "
   ]
  },
  {
   "cell_type": "code",
   "execution_count": 29,
   "metadata": {},
   "outputs": [
    {
     "name": "stdout",
     "output_type": "stream",
     "text": [
      "{'Fever': {(0, 0): 935.6268000000001, (0, 1): 415.5398, (0, 2): 895.1854, (0, 3): 419.7782, (1, 0): 895.1854, (1, 1): 397.57856666666663, (1, 2): 856.4920333333332, (1, 3): 401.63376666666665}, 'Tiredness': {(0, 0): 507.00000000000006, (0, 1): 487.63, (0, 2): 483.47, (0, 3): 484.51, (1, 0): 483.47, (1, 1): 464.99896666666666, (1, 2): 461.03203333333335, (1, 3): 462.0237666666667}, 'Dry-Cough': {(0, 0): 377.44083333333333, (0, 1): 480.74633333333327, (0, 2): 364.093, (0, 3): 471.09999999999997, (1, 0): 364.093, (1, 1): 463.7452, (1, 2): 351.21720000000005, (1, 3): 454.44000000000005}, 'Difficulty-in-Breathing': {(0, 0): 468.50003333333336, (0, 1): 487.6199333333334, (0, 2): 463.3764, (0, 3): 467.1254, (1, 0): 463.3764, (1, 1): 482.2872, (1, 2): 458.3088, (1, 3): 462.01680000000005}, 'Sore-Throat': {(0, 0): 906.1932000000002, (0, 1): 423.55060000000003, (0, 2): 886.2062, (0, 3): 407.90860000000004, (1, 0): 886.2062, (1, 1): 414.2087666666667, (1, 2): 866.6600333333332, (1, 3): 398.91176666666667}, 'None_Sympton': {(0, 0): 1698.8440333333333, (0, 1): 121.83893333333334, (0, 2): 1660.0554666666667, (0, 3): 111.84433333333332, (1, 0): 1660.0554666666667, (1, 1): 119.05706666666667, (1, 2): 1622.1525333333334, (1, 3): 109.29066666666667}, 'Pains': {(0, 0): 790.5633333333333, (0, 1): 451.449, (0, 2): 750.6293333333334, (0, 3): 458.10466666666673, (1, 0): 750.6293333333334, (1, 1): 428.64480000000003, (1, 2): 712.7125333333335, (1, 3): 434.96426666666673}, 'Nasal-Congestion': {(0, 0): 418.4283, (0, 1): 485.1548, (0, 2): 400.2409, (0, 3): 479.1317, (1, 0): 400.2409, (1, 1): 464.0670666666667, (1, 2): 382.8440333333334, (1, 3): 458.3057666666667}, 'Runny-Nose': {(0, 0): 409.73453333333333, (0, 1): 484.41233333333327, (0, 2): 402.48879999999997, (0, 3): 467.70039999999995, (1, 0): 402.48879999999997, (1, 1): 475.846, (1, 2): 395.3712, (1, 3): 459.4296}, 'Diarrhea': {(0, 0): 776.9861333333334, (0, 1): 454.31480000000005, (0, 2): 775.8596000000001, (0, 3): 422.45, (1, 0): 775.8596000000001, (1, 1): 453.65610000000004, (1, 2): 774.7347000000001, (1, 3): 421.8375}, 'None_Experiencing': {(0, 0): 1602.2162999999998, (0, 1): 165.9298, (0, 2): 1562.2359999999999, (0, 3): 158.5346, (1, 0): 1562.2359999999999, (1, 1): 161.78933333333333, (1, 2): 1523.2533333333333, (1, 3): 154.57866666666666}, 'Age_0-9': {(0, 0): 1233.8352000000002, (0, 1): 317.7876, (0, 2): 1210.7160000000001, (0, 3): 299.3328, (1, 0): 1210.7160000000001, (1, 1): 311.83299999999997, (1, 2): 1188.0300000000002, (1, 3): 293.724}, 'Age_10-19': {(0, 0): 1277.6160333333332, (0, 1): 301.2953333333333, (0, 2): 1226.8498333333332, (0, 3): 309.7563666666667, (1, 0): 1226.8498333333332, (1, 1): 289.3233333333333, (1, 2): 1178.1008333333332, (1, 3): 297.4481666666666}, 'Age_20-24': {(0, 0): 1248.0720333333334, (0, 1): 312.47693333333336, (0, 2): 1210.1342333333332, (0, 3): 308.60156666666666, (1, 0): 1210.1342333333332, (1, 1): 302.97853333333336, (1, 2): 1173.3496333333335, (1, 3): 299.22096666666664}, 'Age_25-59': {(0, 0): 1246.4408333333333, (0, 1): 313.088, (0, 2): 1216.8850000000002, (0, 3): 300.858, (1, 0): 1216.8850000000002, (1, 1): 305.66400000000004, (1, 2): 1188.0300000000002, (1, 3): 293.724}, 'Age_60+': {(0, 0): 1238.3008333333332, (0, 1): 316.1273333333333, (0, 2): 1212.0923333333333, (0, 3): 300.68666666666667, (1, 0): 1212.0923333333333, (1, 1): 309.4365333333333, (1, 2): 1186.4385333333332, (1, 3): 294.3226666666667}, 'Gender_Female': {(0, 0): 875.5208333333334, (0, 1): 431.525, (0, 2): 852.8, (0, 3): 419.22499999999997, (1, 0): 852.8, (1, 1): 420.3263999999999, (1, 2): 830.6687999999999, (1, 3): 408.34559999999993}, 'Gender_Male': {(0, 0): 854.8032000000001, (0, 1): 436.6856, (0, 2): 833.3656000000001, (0, 3): 423.5192, (1, 0): 833.3656000000001, (1, 1): 425.7339666666667, (1, 2): 812.4656333333334, (1, 3): 412.8977666666667}, 'Gender_Transgender': {(0, 0): 871.4256333333333, (0, 1): 432.55979999999994, (0, 2): 845.8606333333332, (0, 3): 423.1859666666667, (1, 0): 845.8606333333332, (1, 1): 419.86979999999994, (1, 2): 821.0456333333333, (1, 3): 410.77096666666665}, 'Contact_Dont-Know': {(0, 0): 865.3008333333333, (0, 1): 434.094, (0, 2): 848.827, (0, 3): 415.75200000000007, (1, 0): 848.827, (1, 1): 425.82959999999997, (1, 2): 832.6668, (1, 3): 407.8368}, 'Contact_No': {(0, 0): 888.8965333333333, (0, 1): 428.0956, (0, 2): 852.5763999999999, (0, 3): 429.1284, (1, 0): 852.5763999999999, (1, 1): 410.6037, (1, 2): 817.7402999999999, (1, 3): 411.5943}, 'Contact_Yes': {(0, 0): 847.7283, (0, 1): 438.40479999999997, (0, 2): 830.5821000000001, (0, 3): 421.0905, (1, 0): 830.5821000000001, (1, 1): 429.53760000000005, (1, 2): 813.7827000000002, (1, 3): 412.5735}, 'Country': {(0, 0): 21.440133333333335, (0, 1): 21.092600000000004, (0, 2): 20.825266666666668, (0, 3): 19.060866666666666, (1, 0): 19.034133333333333, (1, 1): 18.7256, (1, 2): 18.488266666666664, (1, 3): 16.921866666666663, (2, 0): 19.22126666666667, (2, 1): 18.9097, (2, 2): 18.670033333333333, (2, 3): 17.088233333333335, (3, 0): 19.86286666666667, (3, 1): 19.5409, (3, 2): 19.29323333333333, (3, 3): 17.658633333333334, (4, 0): 21.092600000000004, (4, 1): 20.750700000000002, (4, 2): 20.4877, (4, 3): 18.7519, (5, 0): 21.30646666666667, (5, 1): 20.9611, (5, 2): 20.69543333333333, (5, 3): 18.94203333333333, (6, 0): 20.10346666666667, (6, 1): 19.7776, (6, 2): 19.526933333333332, (6, 3): 17.872533333333333, (7, 0): 19.248, (7, 1): 18.936, (7, 2): 18.695999999999998, (7, 3): 17.112, (8, 0): 20.825266666666668, (8, 1): 20.4877, (8, 2): 20.228033333333332, (8, 3): 18.514233333333333, (9, 0): 19.91633333333333, (9, 1): 19.5935, (9, 2): 19.345166666666664, (9, 3): 17.706166666666665}}\n"
     ]
    }
   ],
   "source": [
    "print(expected_values)"
   ]
  },
  {
   "cell_type": "markdown",
   "metadata": {},
   "source": [
    "### Calculate Chi-Square Value"
   ]
  },
  {
   "cell_type": "code",
   "execution_count": 30,
   "metadata": {},
   "outputs": [],
   "source": [
    "ChiSquare=[]\n",
    "\n",
    "for x_col in range(X.shape[1]):\n",
    "    col = X[:,x_col]\n",
    "    O_E2_divE=[]\n",
    "    for val_x in range(get_max(col)+1):\n",
    "        for val_y in range(get_max(y)+1):\n",
    "            Observed = (contingency_table[headers[x_col]][val_x,val_y])\n",
    "            Expected = expected_values[headers[x_col]][val_x,val_y]\n",
    "            O_E = Observed-Expected\n",
    "            O_E2 = O_E * O_E\n",
    "            O_E2_divE.append(O_E2/Expected) \n",
    "    ChiSquare.append(np.sum(O_E2_divE))"
   ]
  },
  {
   "cell_type": "code",
   "execution_count": 31,
   "metadata": {},
   "outputs": [
    {
     "name": "stdout",
     "output_type": "stream",
     "text": [
      "[168384.33475722797, 178679.82035330965, 224548.69581150825, 183796.39087166867, 169696.80302300825, 847476.2642236493, 158022.19408370458, 206245.6628140825, 205418.30394904967, 159763.70925434006, 576819.4347981558, 255405.17863815947, 254371.45952805958, 252550.4685363993, 256182.32597447364, 251557.21367774432, 164812.12625076916, 164507.8864260789, 163392.77755801764, 165183.30131751084, 163296.80585817815, 164275.56079003363, 1105106.235385769]\n"
     ]
    }
   ],
   "source": [
    "print(ChiSquare)"
   ]
  },
  {
   "cell_type": "markdown",
   "metadata": {},
   "source": [
    "### Accept or Reject the Null Hypothesis"
   ]
  },
  {
   "cell_type": "markdown",
   "metadata": {},
   "source": [
    "With 95% confidence, we will check if the calculated Chi-Square Values will fall in the acceptance or rejection region. If the variables fall in acceptance region (are less than the critical Chi-Square value), we will conclude that the two variables are independent and cannot be selected for training."
   ]
  },
  {
   "cell_type": "code",
   "execution_count": 32,
   "metadata": {
    "scrolled": false
   },
   "outputs": [
    {
     "name": "stdout",
     "output_type": "stream",
     "text": [
      "Testing if variable Fever is independent of variable Condition.\n",
      "- Degrees of Freedom is 3\n",
      "- Critical Value is 7\n",
      "-- Variable Fever is dependent on variable Condition.\n",
      "Testing if variable Tiredness is independent of variable Condition.\n",
      "- Degrees of Freedom is 3\n",
      "- Critical Value is 7\n",
      "-- Variable Tiredness is dependent on variable Condition.\n",
      "Testing if variable Dry-Cough is independent of variable Condition.\n",
      "- Degrees of Freedom is 3\n",
      "- Critical Value is 7\n",
      "-- Variable Dry-Cough is dependent on variable Condition.\n",
      "Testing if variable Difficulty-in-Breathing is independent of variable Condition.\n",
      "- Degrees of Freedom is 3\n",
      "- Critical Value is 7\n",
      "-- Variable Difficulty-in-Breathing is dependent on variable Condition.\n",
      "Testing if variable Sore-Throat is independent of variable Condition.\n",
      "- Degrees of Freedom is 3\n",
      "- Critical Value is 7\n",
      "-- Variable Sore-Throat is dependent on variable Condition.\n",
      "Testing if variable None_Sympton is independent of variable Condition.\n",
      "- Degrees of Freedom is 3\n",
      "- Critical Value is 7\n",
      "-- Variable None_Sympton is dependent on variable Condition.\n",
      "Testing if variable Pains is independent of variable Condition.\n",
      "- Degrees of Freedom is 3\n",
      "- Critical Value is 7\n",
      "-- Variable Pains is dependent on variable Condition.\n",
      "Testing if variable Nasal-Congestion is independent of variable Condition.\n",
      "- Degrees of Freedom is 3\n",
      "- Critical Value is 7\n",
      "-- Variable Nasal-Congestion is dependent on variable Condition.\n",
      "Testing if variable Runny-Nose is independent of variable Condition.\n",
      "- Degrees of Freedom is 3\n",
      "- Critical Value is 7\n",
      "-- Variable Runny-Nose is dependent on variable Condition.\n",
      "Testing if variable Diarrhea is independent of variable Condition.\n",
      "- Degrees of Freedom is 3\n",
      "- Critical Value is 7\n",
      "-- Variable Diarrhea is dependent on variable Condition.\n",
      "Testing if variable None_Experiencing is independent of variable Condition.\n",
      "- Degrees of Freedom is 3\n",
      "- Critical Value is 7\n",
      "-- Variable None_Experiencing is dependent on variable Condition.\n",
      "Testing if variable Age_0-9 is independent of variable Condition.\n",
      "- Degrees of Freedom is 3\n",
      "- Critical Value is 7\n",
      "-- Variable Age_0-9 is dependent on variable Condition.\n",
      "Testing if variable Age_10-19 is independent of variable Condition.\n",
      "- Degrees of Freedom is 3\n",
      "- Critical Value is 7\n",
      "-- Variable Age_10-19 is dependent on variable Condition.\n",
      "Testing if variable Age_20-24 is independent of variable Condition.\n",
      "- Degrees of Freedom is 3\n",
      "- Critical Value is 7\n",
      "-- Variable Age_20-24 is dependent on variable Condition.\n",
      "Testing if variable Age_25-59 is independent of variable Condition.\n",
      "- Degrees of Freedom is 3\n",
      "- Critical Value is 7\n",
      "-- Variable Age_25-59 is dependent on variable Condition.\n",
      "Testing if variable Age_60+ is independent of variable Condition.\n",
      "- Degrees of Freedom is 3\n",
      "- Critical Value is 7\n",
      "-- Variable Age_60+ is dependent on variable Condition.\n",
      "Testing if variable Gender_Female is independent of variable Condition.\n",
      "- Degrees of Freedom is 3\n",
      "- Critical Value is 7\n",
      "-- Variable Gender_Female is dependent on variable Condition.\n",
      "Testing if variable Gender_Male is independent of variable Condition.\n",
      "- Degrees of Freedom is 3\n",
      "- Critical Value is 7\n",
      "-- Variable Gender_Male is dependent on variable Condition.\n",
      "Testing if variable Gender_Transgender is independent of variable Condition.\n",
      "- Degrees of Freedom is 3\n",
      "- Critical Value is 7\n",
      "-- Variable Gender_Transgender is dependent on variable Condition.\n",
      "Testing if variable Contact_Dont-Know is independent of variable Condition.\n",
      "- Degrees of Freedom is 3\n",
      "- Critical Value is 7\n",
      "-- Variable Contact_Dont-Know is dependent on variable Condition.\n",
      "Testing if variable Contact_No is independent of variable Condition.\n",
      "- Degrees of Freedom is 3\n",
      "- Critical Value is 7\n",
      "-- Variable Contact_No is dependent on variable Condition.\n",
      "Testing if variable Contact_Yes is independent of variable Condition.\n",
      "- Degrees of Freedom is 3\n",
      "- Critical Value is 7\n",
      "-- Variable Contact_Yes is dependent on variable Condition.\n",
      "Testing if variable Country is independent of variable Condition.\n",
      "- Degrees of Freedom is 27\n",
      "- Critical Value is 40\n",
      "-- Variable Country is dependent on variable Condition.\n"
     ]
    }
   ],
   "source": [
    "drop = []\n",
    "for h in range(len(headers)):\n",
    "    print(\"Testing if variable %s is independent of variable Condition.\"%headers[h])\n",
    "    deg = df[headers[h]]\n",
    "    print(\"- Degrees of Freedom is %d\"%(deg))\n",
    "    if deg == 3:\n",
    "        crit_val = 7.82\n",
    "    if deg == 27:\n",
    "        crit_val = 40.11\n",
    "    print(\"- Critical Value is %d\"%(crit_val))\n",
    "    \n",
    "    if(ChiSquare[h]>crit_val):\n",
    "        print(\"-- Variable %s is dependent on variable Condition.\"%headers[h])\n",
    "    else:\n",
    "        print(\"-- Variable %s is independent on variable Condition.\"%headers[h])\n",
    "        print(\"DROPPING VARIABLE: %s\"%headers[h])\n",
    "        drop.append(h)\n",
    "        \n",
    "X = np.delete(X,drop,1)\n",
    "    "
   ]
  },
  {
   "cell_type": "markdown",
   "metadata": {},
   "source": [
    "---"
   ]
  },
  {
   "cell_type": "markdown",
   "metadata": {},
   "source": [
    "## Shuffle and Split"
   ]
  },
  {
   "cell_type": "code",
   "execution_count": 33,
   "metadata": {},
   "outputs": [],
   "source": [
    "def shuffle_and_split(x,y):\n",
    "    global x_train\n",
    "    global x_test\n",
    "    global y_train\n",
    "    global y_test\n",
    "    \n",
    "    N = x.shape[0]\n",
    "    P = np.arange(0,N,1)\n",
    "    np.random.shuffle(P)\n",
    "    lim= int(0.8*N)\n",
    "    \n",
    "    x_train = np.copy(x[P[0:lim],:])\n",
    "    y_train = np.copy(y[P[0:lim]])\n",
    "    x_test = np.copy(x[P[lim:N],:])\n",
    "    y_test = np.copy(y[P[lim:N]])"
   ]
  },
  {
   "cell_type": "code",
   "execution_count": 34,
   "metadata": {},
   "outputs": [
    {
     "name": "stdout",
     "output_type": "stream",
     "text": [
      "(24000, 23)\n",
      "(24000,)\n",
      "(6000, 23)\n",
      "(6000,)\n"
     ]
    }
   ],
   "source": [
    "shuffle_and_split(X,y)\n",
    "print(x_train.shape)\n",
    "print(y_train.shape)\n",
    "print(x_test.shape)\n",
    "print(y_test.shape)"
   ]
  },
  {
   "cell_type": "code",
   "execution_count": 35,
   "metadata": {
    "scrolled": true
   },
   "outputs": [
    {
     "name": "stdout",
     "output_type": "stream",
     "text": [
      "7\n"
     ]
    },
    {
     "data": {
      "text/plain": [
       "array([1, 1, 0, 0, 0, 0, 0, 1, 1, 1, 0, 1, 0, 0, 0, 0, 0, 1, 0, 0, 1, 0,\n",
       "       7], dtype=object)"
      ]
     },
     "execution_count": 35,
     "metadata": {},
     "output_type": "execute_result"
    }
   ],
   "source": [
    "print((x_train[0][-1]))\n",
    "x_train[0]"
   ]
  },
  {
   "cell_type": "code",
   "execution_count": 36,
   "metadata": {},
   "outputs": [],
   "source": [
    "pkl_filename_x_train = \"pickle_model_x_train.pkl\"\n",
    "with open(pkl_filename_x_train, 'wb') as file:\n",
    "    pickle.dump(x_train, file)\n",
    "    \n",
    "pkl_filename_x_test = \"pickle_model_x_test.pkl\"\n",
    "with open(pkl_filename_x_test, 'wb') as file:\n",
    "    pickle.dump(x_test, file)\n",
    "    \n",
    "pkl_filename_y_train = \"pickle_model_y_train.pkl\"\n",
    "with open(pkl_filename_y_train, 'wb') as file:\n",
    "    pickle.dump(y_train, file)\n",
    "    \n",
    "pkl_filename_y_test = \"pickle_model_y_test.pkl\"\n",
    "with open(pkl_filename_y_test, 'wb') as file:\n",
    "    pickle.dump(y_test, file)"
   ]
  },
  {
   "cell_type": "code",
   "execution_count": 37,
   "metadata": {},
   "outputs": [],
   "source": [
    "with open(\"pickle_model_x_train.pkl\", 'rb') as f:\n",
    "    x_train = pickle.load(f)\n",
    "    \n",
    "with open(\"pickle_model_x_test.pkl\", 'rb') as f:\n",
    "    x_test = pickle.load(f)\n",
    "    \n",
    "with open(\"pickle_model_y_train.pkl\", 'rb') as f:\n",
    "    y_train = pickle.load(f)\n",
    "    \n",
    "with open(\"pickle_model_y_test.pkl\", 'rb') as f:\n",
    "    y_test = pickle.load(f)"
   ]
  },
  {
   "cell_type": "markdown",
   "metadata": {},
   "source": [
    "---"
   ]
  },
  {
   "cell_type": "markdown",
   "metadata": {},
   "source": [
    "# Decision Tree"
   ]
  },
  {
   "cell_type": "code",
   "execution_count": 38,
   "metadata": {},
   "outputs": [],
   "source": [
    "# Fever_values = []\n",
    "# Tiredness_values = []\n",
    "# Dry_Cough_values=[]\n",
    "# Difficulty_Breathing_values = []\n",
    "# Sore_Throat_values = []\n",
    "# No_Symptoms_values=[]\n",
    "# Pains_values = []\n",
    "# Nasal_Congestion_values = []\n",
    "# Runny_Nose_values=[]\n",
    "# Diarrhea_values = []\n",
    "# None_Experiencing_Values = []\n",
    "# Age_0_9_Values =[]\n",
    "# Age_10_19_Values =[]\n",
    "# Age_20_24_Values =[]\n",
    "# Age_25_59_Values = []\n",
    "# Age_60_pls_Values = []\n",
    "# Gender_Female_Values =[]\n",
    "# Gender_Male_Values =[]\n",
    "# Gender_Trans_Values =[]\n",
    "# Contact_dk_Values = []\n",
    "# Contact_no_Values =[]\n",
    "# Contact_yes_Values =[]\n",
    "# Country_Values = []"
   ]
  },
  {
   "cell_type": "code",
   "execution_count": 39,
   "metadata": {},
   "outputs": [],
   "source": [
    "#\n",
    "# classes = [0,1,2,3]\n",
    "# features = headers\n",
    "# #\n",
    "\n",
    "# classes2code = {}\n",
    "# code2classes = {}\n",
    "# i=0\n",
    "# for v in classes:\n",
    "#     print(v)\n",
    "#     classes2code[v]=i\n",
    "#     code2classes[i]=v\n",
    "#     i+=1\n",
    "# #\n",
    "# print(classes2code)"
   ]
  },
  {
   "cell_type": "code",
   "execution_count": 40,
   "metadata": {},
   "outputs": [],
   "source": [
    "# #\n",
    "# # convert dataset to numpy arrays\n",
    "# n = len(headers)  # number of features\n",
    "# m = len(x_train)  # number of instances\n",
    "# X = np.zeros([m,n],dtype=float)\n",
    "# Y = np.zeros([m],dtype=float)\n",
    "# for i in range(m):\n",
    "#     X[i,0] = x_train[i][0]\n",
    "#     X[i,1] = x_train[i][1]\n",
    "#     X[i,2] = x_train[i][2]\n",
    "#     X[i,3] = x_train[i][3]\n",
    "#     X[i,4] = x_train[i][4]\n",
    "#     X[i,5] = x_train[i][5]\n",
    "#     X[i,6] = x_train[i][6]\n",
    "#     X[i,7] = x_train[i][7]\n",
    "#     X[i,8] = x_train[i][8]\n",
    "#     X[i,9] = x_train[i][9]\n",
    "#     X[i,10] = x_train[i][10]\n",
    "#     X[i,11] = x_train[i][11]\n",
    "#     X[i,12] = x_train[i][12]\n",
    "#     X[i,13] = x_train[i][13]\n",
    "#     X[i,14] = x_train[i][14]\n",
    "#     X[i,15] = x_train[i][15]\n",
    "#     X[i,16] = x_train[i][16]\n",
    "#     X[i,17] = x_train[i][17]\n",
    "#     X[i,18] = x_train[i][18]\n",
    "#     X[i,19] = x_train[i][19]\n",
    "#     X[i,20] = x_train[i][20]\n",
    "#     X[i,21] = x_train[i][21]\n",
    "#     X[i,22] = x_train[i][22]\n",
    "#     Y[i] = y_train[i]"
   ]
  },
  {
   "cell_type": "code",
   "execution_count": 41,
   "metadata": {
    "scrolled": true
   },
   "outputs": [],
   "source": [
    "# print (X)\n",
    "# print (Y)"
   ]
  },
  {
   "cell_type": "code",
   "execution_count": 42,
   "metadata": {},
   "outputs": [],
   "source": [
    "# X.shape"
   ]
  },
  {
   "cell_type": "code",
   "execution_count": 43,
   "metadata": {},
   "outputs": [],
   "source": [
    "# Y.reshape(1,24000).ravel()"
   ]
  },
  {
   "cell_type": "code",
   "execution_count": 44,
   "metadata": {},
   "outputs": [],
   "source": [
    "# dt_model = DecisionTreeClassifier(criterion='entropy', )\n",
    "# dt_model.fit(X,Y)"
   ]
  },
  {
   "cell_type": "code",
   "execution_count": 45,
   "metadata": {},
   "outputs": [],
   "source": [
    "# param_DT = {'criterion':['entropy','gini'], \n",
    "#             'splitter': ['best','random'],\n",
    "#             'max_depth': [10, 15,20,25,30],\n",
    "#            'max_features': ['auto','sqrt', 'log2'],\n",
    "#            'min_samples_split': [5,7,10,15,20],\n",
    "#             'min_samples_leaf':[5,7,10,15,20],\n",
    "#             'max_leaf_nodes': [5,7,10,15,20],\n",
    "#             'min_impurity_decrease': [5,7,10,15,20],\n",
    "#             'class_weight': ['balanced']\n",
    "            \n",
    "#            }\n",
    "# DT = DecisionTreeClassifier()\n",
    "# clf_2 = GridSearchCV(DT, param_DT, n_jobs=-1 ,cv=5, verbose = 100)"
   ]
  },
  {
   "cell_type": "code",
   "execution_count": 46,
   "metadata": {
    "scrolled": true
   },
   "outputs": [],
   "source": [
    "# %time clf_2.fit(X,Y) "
   ]
  },
  {
   "cell_type": "code",
   "execution_count": 47,
   "metadata": {},
   "outputs": [],
   "source": [
    "# print(clf_2.best_params_) "
   ]
  },
  {
   "cell_type": "code",
   "execution_count": 48,
   "metadata": {},
   "outputs": [],
   "source": [
    "# y_pred_dt = clf_2.predict(x_test)\n",
    "# acc_dt =accuracy_score(y_test, y_pred_dt)\n",
    "# # acc_dt "
   ]
  },
  {
   "cell_type": "code",
   "execution_count": 49,
   "metadata": {},
   "outputs": [],
   "source": [
    "# # predict and compare (you should check consistency)\n",
    "# print('y=',dt_model.predict(x_test))\n",
    "# print('Y=',Y)"
   ]
  },
  {
   "cell_type": "code",
   "execution_count": 50,
   "metadata": {},
   "outputs": [],
   "source": [
    "# dot_data = tree.export_graphviz(dt_model, out_file=None,\n",
    "#                                 feature_names=headers, \n",
    "#                                 class_names = str(classes))\n",
    "# graph = graphviz.Source(dot_data) \n",
    "# %time graph.render(\"Assignment\", view=True) "
   ]
  },
  {
   "cell_type": "markdown",
   "metadata": {},
   "source": [
    "____"
   ]
  },
  {
   "cell_type": "markdown",
   "metadata": {},
   "source": [
    "##  Decision Tree from Scratch"
   ]
  },
  {
   "cell_type": "code",
   "execution_count": 51,
   "metadata": {},
   "outputs": [],
   "source": [
    "class DecisionTreeClassifier(object):\n",
    "    def __init__(self, max_depth):\n",
    "        self.depth = 0\n",
    "        self.max_depth = max_depth\n",
    "    \n",
    "    def fit(self, x, y, par_node={}, depth=0):\n",
    "        if par_node is None: \n",
    "            return None\n",
    "        elif len(y) == 0:\n",
    "            return None\n",
    "        elif self.all_same(y):\n",
    "            return {'val':y[0]}\n",
    "        elif depth >= self.max_depth:\n",
    "            return None\n",
    "        else: \n",
    "            col, cutoff, entropy = self.find_best_split_of_all(x, y)    # find one split given an information gain \n",
    "            y_left = y[x[:, col] < cutoff]\n",
    "            y_right = y[x[:, col] >= cutoff]\n",
    "            par_node = {'col': headers[col], 'index_col':col,\n",
    "                        'cutoff':cutoff,\n",
    "                       'val': np.round(np.mean(y))}\n",
    "            par_node['left'] = self.fit(x[x[:, col] < cutoff], y_left, {}, depth+1)\n",
    "            par_node['right'] = self.fit(x[x[:, col] >= cutoff], y_right, {}, depth+1)\n",
    "            self.depth += 1 \n",
    "            self.trees = par_node\n",
    "            return par_node\n",
    "    \n",
    "    def find_best_split_of_all(self, x, y):\n",
    "        col = None\n",
    "        min_entropy = 1\n",
    "        cutoff = None\n",
    "        for i, c in enumerate(x.T):\n",
    "            entropy, cur_cutoff = self.find_best_split(c, y)\n",
    "            if entropy == 0:    # find the first perfect cutoff. Stop Iterating\n",
    "                return i, cur_cutoff, entropy\n",
    "            elif entropy <= min_entropy:\n",
    "                min_entropy = entropy\n",
    "                col = i\n",
    "                cutoff = cur_cutoff\n",
    "        return col, cutoff, min_entropy\n",
    "    \n",
    "    def find_best_split(self, col, y):\n",
    "        min_entropy = 10\n",
    "        n = len(y)\n",
    "        for value in set(col):\n",
    "            y_predict = col < value\n",
    "            my_entropy = get_entropy(y_predict, y)\n",
    "            if my_entropy <= min_entropy:\n",
    "                min_entropy = my_entropy\n",
    "                cutoff = value\n",
    "        return min_entropy, cutoff\n",
    "    \n",
    "    def all_same(self, items):\n",
    "        return all(x == items[0] for x in items)\n",
    "                                           \n",
    "    def predict(self, x):\n",
    "        tree = self.trees\n",
    "        results = np.array([0]*len(x))\n",
    "        for i, c in enumerate(x):\n",
    "            results[i] = self._get_prediction(c)\n",
    "        return results\n",
    "    \n",
    "    def _get_prediction(self, row):\n",
    "        cur_layer = self.trees\n",
    "        while cur_layer.get('cutoff'):\n",
    "            if row[cur_layer['index_col']] < cur_layer['cutoff']:\n",
    "                cur_layer = cur_layer['left']\n",
    "            else:\n",
    "                cur_layer = cur_layer['right']\n",
    "        else:\n",
    "            return cur_layer.get('val')"
   ]
  },
  {
   "cell_type": "code",
   "execution_count": 52,
   "metadata": {},
   "outputs": [],
   "source": [
    "def entropy_func(c, n):#C -> Class, n -> number of samples, e-> entropy (math formula)\n",
    "    e = -(c*1.0/n)*math.log(c*1.0/n, 2)\n",
    "    return e\n",
    "\n",
    "def entropy_cal(c1, c2): #Calculates entropy when there are multiple classes \"\"\"Returns entropy of a group of data c1: count of one classc2: count of another class\n",
    "   \n",
    "    if c1== 0 or c2 == 0:  # when there is only one class in the group, entropy is 0\n",
    "        return 0\n",
    "    e = entropy_func(c1, c1+c2) + entropy_func(c2, c1+c2)\n",
    "    return e\n",
    "\n",
    "# # get the entropy of one big circle showing above\n",
    "def entropy_of_one_division(division): \n",
    "    \"\"\"\n",
    "    Returns entropy of a divided group of data\n",
    "    Data may have multiple classes\n",
    "    \"\"\"\n",
    "    s = 0\n",
    "    n = len(division)\n",
    "    classes = set(division)\n",
    "    for c in classes:   # for each class, get entropy\n",
    "        n_c = sum(division==c)\n",
    "        e = n_c*1.0/n * entropy_cal(sum(division==c), sum(division!=c)) # weighted avg\n",
    "        s += e\n",
    "    return s, n\n",
    "\n",
    "# The whole entropy of two big circles combined\n",
    "def get_entropy(y_predict, y_real):\n",
    "    \"\"\"\n",
    "    Returns entropy of a split\n",
    "    y_predict is the split decision, True/Fasle, and y_true can be multi class\n",
    "    \"\"\"\n",
    "    if len(y_predict) != len(y_real):\n",
    "        print('They have to be the same length')\n",
    "        return None\n",
    "    n = len(y_real)\n",
    "    s_true, n_true = entropy_of_one_division(y_real[y_predict]) # left hand side entropy\n",
    "    s_false, n_false = entropy_of_one_division(y_real[~y_predict]) # right hand side entropy\n",
    "    s = n_true*1.0/n * s_true + n_false*1.0/n * s_false # overall entropy, again weighted average\n",
    "    return s"
   ]
  },
  {
   "cell_type": "code",
   "execution_count": 53,
   "metadata": {},
   "outputs": [],
   "source": [
    "# DT_Params = {'criterion':['entropy','gini'], \n",
    "#             'splitter': ['best','random'],\n",
    "#             'max_depth': [10, 15,20,25,30],\n",
    "#            'max_features': ['auto','sqrt', 'log2'],\n",
    "#            'min_samples_split': [5,7,10,15,20],\n",
    "#             'min_samples_leaf':[5,7,10,15,20],\n",
    "#             'max_leaf_nodes': [5,7,10,15,20],\n",
    "#             'min_impurity_decrease': [5,7,10,15,20],\n",
    "#             'class_weight': ['balanced']}\n",
    "            \n",
    "# DT_Params['criterion']"
   ]
  },
  {
   "cell_type": "markdown",
   "metadata": {},
   "source": [
    "___\n",
    "##### Decision Tree Parameter Grid"
   ]
  },
  {
   "cell_type": "code",
   "execution_count": 54,
   "metadata": {},
   "outputs": [],
   "source": [
    "criterion = ['entropy','gini'] \n",
    "splitter = ['best','random']\n",
    "max_depth = np.linspace(3, 25, num = 6).astype(int)\n",
    "max_features = ['auto','sqrt', 'log2']\n",
    "min_samples_split = np.linspace(3, 15, num = 6).astype(int)\n",
    "min_samples_leaf =np.linspace(3, 15, num = 6).astype(int)\n",
    "max_leaf_nodes = np.linspace(3, 15, num = 6).astype(int)\n",
    "min_impurity_decrease = np.linspace(3, 15, num = 6).astype(int)\n",
    "class_weight =['balanced']"
   ]
  },
  {
   "cell_type": "markdown",
   "metadata": {},
   "source": [
    "___"
   ]
  },
  {
   "cell_type": "markdown",
   "metadata": {},
   "source": [
    "##### CrossValidation Function: 5Fold"
   ]
  },
  {
   "cell_type": "code",
   "execution_count": 69,
   "metadata": {},
   "outputs": [],
   "source": [
    "def cvsplit(x,y):\n",
    "    \n",
    "    N = x.shape[0]\n",
    "    print(N)\n",
    "    P = np.arange(0,N,1)\n",
    "    np.random.shuffle(P)\n",
    "    lim_1= int(0.2*N)\n",
    "    lim_2= int(0.4*N)\n",
    "    lim_3= int(0.6*N)\n",
    "    lim_4= int(0.8*N)\n",
    "    \n",
    "    \n",
    "    x_1= np.copy(x[P[0:lim_1],:])\n",
    "    x_2= np.copy(x[P[lim_1:lim_2],:])\n",
    "    x_3= np.copy(x[P[lim_2:lim_3],:])\n",
    "    x_4= np.copy(x[P[lim_3:lim_4],:])\n",
    "    x_5= np.copy(x[P[lim_4:N],:])\n",
    "    \n",
    "    y_1= np.copy(y[P[0:lim_1]])\n",
    "    y_2= np.copy(y[P[lim_1:lim_2]])\n",
    "    y_3= np.copy(y[P[lim_2:lim_3]])\n",
    "    y_4= np.copy(y[P[lim_3:lim_4]])\n",
    "    y_5= np.copy(y[P[lim_4:N]])\n",
    "    \n",
    "    return x_1,x_2,x_3,x_4,x_5,y_1,y_2,y_3,y_4,y_5"
   ]
  },
  {
   "cell_type": "markdown",
   "metadata": {},
   "source": [
    "___\n",
    "##### Accuracy"
   ]
  },
  {
   "cell_type": "code",
   "execution_count": 56,
   "metadata": {},
   "outputs": [],
   "source": [
    "# # Accuracy\n",
    "\n",
    "# true_positives = 0\n",
    "\n",
    "# for i in range(0, len(lr_probs)):\n",
    "    \n",
    "#     if lr_probs[i,0] > 0.5 and testy[i] == 0:\n",
    "#         true_positives += 1\n",
    "#     elif lr_probs[i,1] > 0.5 and testy[i] == 1:\n",
    "#         true_positives += 1\n",
    "\n",
    "# accuracy = true_positives/len(testy)\n",
    "\n",
    "# print(accuracy)"
   ]
  },
  {
   "cell_type": "markdown",
   "metadata": {},
   "source": [
    "___"
   ]
  },
  {
   "cell_type": "markdown",
   "metadata": {},
   "source": [
    "##### GridSearch"
   ]
  },
  {
   "cell_type": "code",
   "execution_count": 57,
   "metadata": {},
   "outputs": [],
   "source": [
    "# %%time\n",
    "\n",
    "# Accuracy_Scores = {}\n",
    "# for c in criterion:\n",
    "#     for s in splitter:\n",
    "#         for d in max_depth:\n",
    "#             for f in max_features:\n",
    "#                 for ms in min_samples_split:\n",
    "#                     for l min_samples_leaf:\n",
    "#                         for i in min_impurity_decrease:\n",
    "#                                 dbscan = DecisionTreeClassifier().fit(x)\n",
    "            \n",
    "#             dbscan\n",
    "#             Accuracy_Scores[str(e) + ',' +str(m) + ',' +str(a)] = accuracy_score(y_true = y,y_pred=(dbscan.labels_+1))"
   ]
  },
  {
   "cell_type": "code",
   "execution_count": 71,
   "metadata": {},
   "outputs": [
    {
     "name": "stdout",
     "output_type": "stream",
     "text": [
      "Testing for Max Depth = 3\n",
      "(24000, 23) (24000,)\n",
      " - Splitting into 5 folds\n",
      "24000\n",
      "(4800, 23)\n"
     ]
    },
    {
     "ename": "UnboundLocalError",
     "evalue": "local variable 'cutoff' referenced before assignment",
     "output_type": "error",
     "traceback": [
      "\u001b[1;31m---------------------------------------------------------------------------\u001b[0m",
      "\u001b[1;31mUnboundLocalError\u001b[0m                         Traceback (most recent call last)",
      "\u001b[1;32m<timed exec>\u001b[0m in \u001b[0;36m<module>\u001b[1;34m\u001b[0m\n",
      "\u001b[1;32m<ipython-input-51-137f6d6cd9aa>\u001b[0m in \u001b[0;36mfit\u001b[1;34m(self, x, y, par_node, depth)\u001b[0m\n\u001b[0;32m     14\u001b[0m             \u001b[1;32mreturn\u001b[0m \u001b[1;32mNone\u001b[0m\u001b[1;33m\u001b[0m\u001b[1;33m\u001b[0m\u001b[0m\n\u001b[0;32m     15\u001b[0m         \u001b[1;32melse\u001b[0m\u001b[1;33m:\u001b[0m\u001b[1;33m\u001b[0m\u001b[1;33m\u001b[0m\u001b[0m\n\u001b[1;32m---> 16\u001b[1;33m             \u001b[0mcol\u001b[0m\u001b[1;33m,\u001b[0m \u001b[0mcutoff\u001b[0m\u001b[1;33m,\u001b[0m \u001b[0mentropy\u001b[0m \u001b[1;33m=\u001b[0m \u001b[0mself\u001b[0m\u001b[1;33m.\u001b[0m\u001b[0mfind_best_split_of_all\u001b[0m\u001b[1;33m(\u001b[0m\u001b[0mx\u001b[0m\u001b[1;33m,\u001b[0m \u001b[0my\u001b[0m\u001b[1;33m)\u001b[0m    \u001b[1;31m# find one split given an information gain\u001b[0m\u001b[1;33m\u001b[0m\u001b[1;33m\u001b[0m\u001b[0m\n\u001b[0m\u001b[0;32m     17\u001b[0m             \u001b[0my_left\u001b[0m \u001b[1;33m=\u001b[0m \u001b[0my\u001b[0m\u001b[1;33m[\u001b[0m\u001b[0mx\u001b[0m\u001b[1;33m[\u001b[0m\u001b[1;33m:\u001b[0m\u001b[1;33m,\u001b[0m \u001b[0mcol\u001b[0m\u001b[1;33m]\u001b[0m \u001b[1;33m<\u001b[0m \u001b[0mcutoff\u001b[0m\u001b[1;33m]\u001b[0m\u001b[1;33m\u001b[0m\u001b[1;33m\u001b[0m\u001b[0m\n\u001b[0;32m     18\u001b[0m             \u001b[0my_right\u001b[0m \u001b[1;33m=\u001b[0m \u001b[0my\u001b[0m\u001b[1;33m[\u001b[0m\u001b[0mx\u001b[0m\u001b[1;33m[\u001b[0m\u001b[1;33m:\u001b[0m\u001b[1;33m,\u001b[0m \u001b[0mcol\u001b[0m\u001b[1;33m]\u001b[0m \u001b[1;33m>=\u001b[0m \u001b[0mcutoff\u001b[0m\u001b[1;33m]\u001b[0m\u001b[1;33m\u001b[0m\u001b[1;33m\u001b[0m\u001b[0m\n",
      "\u001b[1;32m<ipython-input-51-137f6d6cd9aa>\u001b[0m in \u001b[0;36mfind_best_split_of_all\u001b[1;34m(self, x, y)\u001b[0m\n\u001b[0;32m     31\u001b[0m         \u001b[0mcutoff\u001b[0m \u001b[1;33m=\u001b[0m \u001b[1;32mNone\u001b[0m\u001b[1;33m\u001b[0m\u001b[1;33m\u001b[0m\u001b[0m\n\u001b[0;32m     32\u001b[0m         \u001b[1;32mfor\u001b[0m \u001b[0mi\u001b[0m\u001b[1;33m,\u001b[0m \u001b[0mc\u001b[0m \u001b[1;32min\u001b[0m \u001b[0menumerate\u001b[0m\u001b[1;33m(\u001b[0m\u001b[0mx\u001b[0m\u001b[1;33m.\u001b[0m\u001b[0mT\u001b[0m\u001b[1;33m)\u001b[0m\u001b[1;33m:\u001b[0m\u001b[1;33m\u001b[0m\u001b[1;33m\u001b[0m\u001b[0m\n\u001b[1;32m---> 33\u001b[1;33m             \u001b[0mentropy\u001b[0m\u001b[1;33m,\u001b[0m \u001b[0mcur_cutoff\u001b[0m \u001b[1;33m=\u001b[0m \u001b[0mself\u001b[0m\u001b[1;33m.\u001b[0m\u001b[0mfind_best_split\u001b[0m\u001b[1;33m(\u001b[0m\u001b[0mc\u001b[0m\u001b[1;33m,\u001b[0m \u001b[0my\u001b[0m\u001b[1;33m)\u001b[0m\u001b[1;33m\u001b[0m\u001b[1;33m\u001b[0m\u001b[0m\n\u001b[0m\u001b[0;32m     34\u001b[0m             \u001b[1;32mif\u001b[0m \u001b[0mentropy\u001b[0m \u001b[1;33m==\u001b[0m \u001b[1;36m0\u001b[0m\u001b[1;33m:\u001b[0m    \u001b[1;31m# find the first perfect cutoff. Stop Iterating\u001b[0m\u001b[1;33m\u001b[0m\u001b[1;33m\u001b[0m\u001b[0m\n\u001b[0;32m     35\u001b[0m                 \u001b[1;32mreturn\u001b[0m \u001b[0mi\u001b[0m\u001b[1;33m,\u001b[0m \u001b[0mcur_cutoff\u001b[0m\u001b[1;33m,\u001b[0m \u001b[0mentropy\u001b[0m\u001b[1;33m\u001b[0m\u001b[1;33m\u001b[0m\u001b[0m\n",
      "\u001b[1;32m<ipython-input-51-137f6d6cd9aa>\u001b[0m in \u001b[0;36mfind_best_split\u001b[1;34m(self, col, y)\u001b[0m\n\u001b[0;32m     49\u001b[0m                 \u001b[0mmin_entropy\u001b[0m \u001b[1;33m=\u001b[0m \u001b[0mmy_entropy\u001b[0m\u001b[1;33m\u001b[0m\u001b[1;33m\u001b[0m\u001b[0m\n\u001b[0;32m     50\u001b[0m                 \u001b[0mcutoff\u001b[0m \u001b[1;33m=\u001b[0m \u001b[0mvalue\u001b[0m\u001b[1;33m\u001b[0m\u001b[1;33m\u001b[0m\u001b[0m\n\u001b[1;32m---> 51\u001b[1;33m         \u001b[1;32mreturn\u001b[0m \u001b[0mmin_entropy\u001b[0m\u001b[1;33m,\u001b[0m \u001b[0mcutoff\u001b[0m\u001b[1;33m\u001b[0m\u001b[1;33m\u001b[0m\u001b[0m\n\u001b[0m\u001b[0;32m     52\u001b[0m \u001b[1;33m\u001b[0m\u001b[0m\n\u001b[0;32m     53\u001b[0m     \u001b[1;32mdef\u001b[0m \u001b[0mall_same\u001b[0m\u001b[1;33m(\u001b[0m\u001b[0mself\u001b[0m\u001b[1;33m,\u001b[0m \u001b[0mitems\u001b[0m\u001b[1;33m)\u001b[0m\u001b[1;33m:\u001b[0m\u001b[1;33m\u001b[0m\u001b[1;33m\u001b[0m\u001b[0m\n",
      "\u001b[1;31mUnboundLocalError\u001b[0m: local variable 'cutoff' referenced before assignment"
     ]
    }
   ],
   "source": [
    "%%time\n",
    "\n",
    "Accuracy_Scores = {}\n",
    "for d in max_depth:\n",
    "    print(\"Testing for Max Depth = \" +str(d))\n",
    "    \n",
    "    clf = DecisionTreeClassifier(max_depth=d)\n",
    "    \n",
    "    print(x_train.shape,y_train.shape)\n",
    "    \n",
    "    print(\" - Splitting into 5 folds\")\n",
    "    x_1,x_2,x_3,x_4,x_5,y_1,y_2,y_3,y_4,y_5 = cvsplit(x_train,y_train)\n",
    "    print(x_1.shape)\n",
    "    train1 =[[]]\n",
    "    test1 =[]\n",
    "    train2 =[[]]\n",
    "    test2 =[]\n",
    "    train3 =[[]]\n",
    "    test3 =[]\n",
    "    train4 =[[]]\n",
    "    test4 =[]\n",
    "    train5 =[[]]\n",
    "    test5 =[]\n",
    "    \n",
    "    train1.extend((list(x_2)+list(x_3))+(list(x_4)+list(x_5)))\n",
    "    test1.extend((y_2+y_3)+(y_4+y_5))\n",
    "    train2.extend((x_1+x_3)+(x_4+x_5))\n",
    "    test2.extend((y_1+y_3)+(y_4+y_5))\n",
    "    train3.extend((x_2+x_1)+(x_4+x_5))\n",
    "    test3.extend((y_2+y_1)+(y_4+y_5))\n",
    "    train4.extend((x_2+x_3)+(x_1+x_5))\n",
    "    test4.extend((y_2+y_3)+(y_1+y_5))\n",
    "    train5.extend((x_2+x_3)+(x_4+x_1))\n",
    "    test5.extend((y_2+y_3)+(y_4+y_1))\n",
    "    \n",
    "    train1 = np.array(train1)\n",
    "    test1 = np.array(test1)\n",
    "    train2 = np.array(train2)\n",
    "    test2 = np.array(test2)\n",
    "    train3 = np.array(train3)\n",
    "    test3 = np.array(test3)\n",
    "    train4 = np.array(train4)\n",
    "    test4 = np.array(test4)\n",
    "    train5 = np.array(train5)\n",
    "    test5 = np.array(test5)\n",
    "    \n",
    "    clf.fit(train1,test1)\n",
    "    dtc_1_score = accuracy_score(y_1, clf.predict(x_1))\n",
    "    print(\"  -  Trained 1/5 Folds. Last Fold Accuracy was: %s\" %(str(dtc_1_score)))\n",
    "    \n",
    "    clf.fit(train2,test2)\n",
    "    dtc_2_score = accuracy_score(y_2, clf.predict(x_2))\n",
    "    print(\"  -  Trained 2/5 Folds. Last Fold Accuracy was: %s\" %(str(dtc_2_score)))\n",
    "\n",
    "    clf.fit(train3,test3)\n",
    "    dtc_3_score = accuracy_score(y_3, clf.predict(x_3))\n",
    "    print(\"  -  Trained 3/5 Folds. Last Fold Accuracy was: \" %( str(dtc_3_score)))\n",
    "    \n",
    "    clf.fit(train4,test4)\n",
    "    dtc_4_score = accuracy_score(y_4, clf.predict(x_4))\n",
    "    print(\"  -  Trained 4/5 Folds. Last Fold Accuracy was: \" %( str(dtc_4_score)))\n",
    "    \n",
    "    clf.fit(train5,test5)\n",
    "    dtc_5_score = accuracy_score(y_5, clf.predict(x_5))\n",
    "    print(\"  -  Trained 5/5 Folds. Last Fold Accuracy was: \" %( str(dtc_5_score)))\n",
    "    \n",
    "    Average_Score = (dtc_1_score+dtc_2_score+dtc_3_score+dtc_4_score+dtc_5_score)/5\n",
    "    print(\"   -   Average Accuracy achieved for max depth %s was: %s\" %(d, str(Average_Score)))\n",
    "    \n",
    "    Accuracy_Scores[str(d)] = Average_Score\n",
    "                \n",
    "#     Accuracy_Scores[str(d)] = (dtc_1_4_score+dtc_1_5_score+dtc_2_4_score+dtc_2_5_score+dtc_3_4_score+dtc_3_5_score)/6"
   ]
  },
  {
   "cell_type": "code",
   "execution_count": 59,
   "metadata": {
    "scrolled": true
   },
   "outputs": [
    {
     "name": "stdout",
     "output_type": "stream",
     "text": [
      "{}\n"
     ]
    },
    {
     "ename": "ValueError",
     "evalue": "zero-size array to reduction operation maximum which has no identity",
     "output_type": "error",
     "traceback": [
      "\u001b[1;31m---------------------------------------------------------------------------\u001b[0m",
      "\u001b[1;31mValueError\u001b[0m                                Traceback (most recent call last)",
      "\u001b[1;32m<ipython-input-59-bb56ab2c571b>\u001b[0m in \u001b[0;36m<module>\u001b[1;34m\u001b[0m\n\u001b[0;32m      4\u001b[0m \u001b[1;33m\u001b[0m\u001b[0m\n\u001b[0;32m      5\u001b[0m \u001b[1;31m# print key with val 100\u001b[0m\u001b[1;33m\u001b[0m\u001b[1;33m\u001b[0m\u001b[1;33m\u001b[0m\u001b[0m\n\u001b[1;32m----> 6\u001b[1;33m \u001b[0mposition\u001b[0m \u001b[1;33m=\u001b[0m \u001b[0mvals\u001b[0m\u001b[1;33m.\u001b[0m\u001b[0mindex\u001b[0m\u001b[1;33m(\u001b[0m\u001b[0mnp\u001b[0m\u001b[1;33m.\u001b[0m\u001b[0mmax\u001b[0m\u001b[1;33m(\u001b[0m\u001b[0mlist\u001b[0m\u001b[1;33m(\u001b[0m\u001b[0mAccuracy_Scores\u001b[0m\u001b[1;33m.\u001b[0m\u001b[0mvalues\u001b[0m\u001b[1;33m(\u001b[0m\u001b[1;33m)\u001b[0m\u001b[1;33m)\u001b[0m\u001b[1;33m)\u001b[0m\u001b[1;33m)\u001b[0m\u001b[1;33m\u001b[0m\u001b[1;33m\u001b[0m\u001b[0m\n\u001b[0m\u001b[0;32m      7\u001b[0m \u001b[0mprint\u001b[0m\u001b[1;33m(\u001b[0m\u001b[1;33m)\u001b[0m\u001b[1;33m\u001b[0m\u001b[1;33m\u001b[0m\u001b[0m\n\u001b[0;32m      8\u001b[0m \u001b[0mprint\u001b[0m\u001b[1;33m(\u001b[0m\u001b[1;34m'The best score was achieved with a max depth of:'\u001b[0m\u001b[1;33m,\u001b[0m\u001b[0mkeys\u001b[0m\u001b[1;33m[\u001b[0m\u001b[0mposition\u001b[0m\u001b[1;33m]\u001b[0m\u001b[1;33m)\u001b[0m\u001b[1;33m\u001b[0m\u001b[1;33m\u001b[0m\u001b[0m\n",
      "\u001b[1;32m<__array_function__ internals>\u001b[0m in \u001b[0;36mamax\u001b[1;34m(*args, **kwargs)\u001b[0m\n",
      "\u001b[1;32m~\\Anaconda3\\lib\\site-packages\\numpy\\core\\fromnumeric.py\u001b[0m in \u001b[0;36mamax\u001b[1;34m(a, axis, out, keepdims, initial, where)\u001b[0m\n\u001b[0;32m   2665\u001b[0m     \u001b[1;36m5\u001b[0m\u001b[1;33m\u001b[0m\u001b[1;33m\u001b[0m\u001b[0m\n\u001b[0;32m   2666\u001b[0m     \"\"\"\n\u001b[1;32m-> 2667\u001b[1;33m     return _wrapreduction(a, np.maximum, 'max', axis, None, out,\n\u001b[0m\u001b[0;32m   2668\u001b[0m                           keepdims=keepdims, initial=initial, where=where)\n\u001b[0;32m   2669\u001b[0m \u001b[1;33m\u001b[0m\u001b[0m\n",
      "\u001b[1;32m~\\Anaconda3\\lib\\site-packages\\numpy\\core\\fromnumeric.py\u001b[0m in \u001b[0;36m_wrapreduction\u001b[1;34m(obj, ufunc, method, axis, dtype, out, **kwargs)\u001b[0m\n\u001b[0;32m     88\u001b[0m                 \u001b[1;32mreturn\u001b[0m \u001b[0mreduction\u001b[0m\u001b[1;33m(\u001b[0m\u001b[0maxis\u001b[0m\u001b[1;33m=\u001b[0m\u001b[0maxis\u001b[0m\u001b[1;33m,\u001b[0m \u001b[0mout\u001b[0m\u001b[1;33m=\u001b[0m\u001b[0mout\u001b[0m\u001b[1;33m,\u001b[0m \u001b[1;33m**\u001b[0m\u001b[0mpasskwargs\u001b[0m\u001b[1;33m)\u001b[0m\u001b[1;33m\u001b[0m\u001b[1;33m\u001b[0m\u001b[0m\n\u001b[0;32m     89\u001b[0m \u001b[1;33m\u001b[0m\u001b[0m\n\u001b[1;32m---> 90\u001b[1;33m     \u001b[1;32mreturn\u001b[0m \u001b[0mufunc\u001b[0m\u001b[1;33m.\u001b[0m\u001b[0mreduce\u001b[0m\u001b[1;33m(\u001b[0m\u001b[0mobj\u001b[0m\u001b[1;33m,\u001b[0m \u001b[0maxis\u001b[0m\u001b[1;33m,\u001b[0m \u001b[0mdtype\u001b[0m\u001b[1;33m,\u001b[0m \u001b[0mout\u001b[0m\u001b[1;33m,\u001b[0m \u001b[1;33m**\u001b[0m\u001b[0mpasskwargs\u001b[0m\u001b[1;33m)\u001b[0m\u001b[1;33m\u001b[0m\u001b[1;33m\u001b[0m\u001b[0m\n\u001b[0m\u001b[0;32m     91\u001b[0m \u001b[1;33m\u001b[0m\u001b[0m\n\u001b[0;32m     92\u001b[0m \u001b[1;33m\u001b[0m\u001b[0m\n",
      "\u001b[1;31mValueError\u001b[0m: zero-size array to reduction operation maximum which has no identity"
     ]
    }
   ],
   "source": [
    "print(Accuracy_Scores)\n",
    "keys = list(Accuracy_Scores.keys())\n",
    "vals = list(Accuracy_Scores.values())\n",
    " \n",
    "# print key with val 100\n",
    "position = vals.index(np.max(list(Accuracy_Scores.values())))\n",
    "print()\n",
    "print('The best score was achieved with a max depth of:',keys[position])"
   ]
  },
  {
   "cell_type": "markdown",
   "metadata": {},
   "source": [
    "___"
   ]
  },
  {
   "cell_type": "code",
   "execution_count": null,
   "metadata": {},
   "outputs": [],
   "source": [
    "clf = DecisionTreeClassifier(max_depth = 20 ).fit(x_train,y_train)\n",
    "pred = clf.predict(x_test)\n",
    "\n",
    "accuracy_score(y_test, pred)"
   ]
  },
  {
   "cell_type": "markdown",
   "metadata": {},
   "source": [
    "___"
   ]
  },
  {
   "cell_type": "code",
   "execution_count": null,
   "metadata": {},
   "outputs": [],
   "source": [
    "clf = DecisionTreeClassifier()\n",
    "%time clf.fit(x_train, y_train)"
   ]
  },
  {
   "cell_type": "code",
   "execution_count": null,
   "metadata": {},
   "outputs": [],
   "source": [
    "y_pred_dt = clf.predict(x_test)\n",
    "acc_dt =accuracy_score(y_test, y_pred_dt)\n",
    "acc_dt "
   ]
  },
  {
   "cell_type": "markdown",
   "metadata": {},
   "source": [
    "____"
   ]
  },
  {
   "cell_type": "markdown",
   "metadata": {},
   "source": [
    "# Neural Network"
   ]
  },
  {
   "cell_type": "markdown",
   "metadata": {},
   "source": [
    "## Test"
   ]
  },
  {
   "cell_type": "code",
   "execution_count": 74,
   "metadata": {},
   "outputs": [
    {
     "name": "stdout",
     "output_type": "stream",
     "text": [
      "{'hidden_layer_sizes': [(200, 100, 50, 25), (100, 50, 25, 10), (200, 100, 50, 25, 10)], 'alpha': array([0.1 , 0.14, 0.18, 0.22, 0.26, 0.3 ])}\n"
     ]
    }
   ],
   "source": [
    "NN = MLPClassifier(max_iter=5000)\n",
    "hidden_layer_size = [(200,100,50,25),(100,50,25,10),(200,100,50,25,10)]\n",
    "alpha = np.linspace(0.1, 0.3, num = 6)\n",
    "param_grid = dict(hidden_layer_sizes=hidden_layer_size,alpha = alpha)\n",
    "print(param_grid)"
   ]
  },
  {
   "cell_type": "code",
   "execution_count": 75,
   "metadata": {},
   "outputs": [],
   "source": [
    "grid = GridSearchCV(NN, param_grid=param_grid, cv=5)"
   ]
  },
  {
   "cell_type": "code",
   "execution_count": null,
   "metadata": {},
   "outputs": [
    {
     "name": "stderr",
     "output_type": "stream",
     "text": [
      "C:\\Users\\Chris\\Anaconda3\\lib\\site-packages\\sklearn\\neural_network\\_multilayer_perceptron.py:587: UserWarning: Training interrupted by user.\n",
      "  warnings.warn(\"Training interrupted by user.\")\n",
      "C:\\Users\\Chris\\Anaconda3\\lib\\site-packages\\sklearn\\neural_network\\_multilayer_perceptron.py:587: UserWarning: Training interrupted by user.\n",
      "  warnings.warn(\"Training interrupted by user.\")\n",
      "C:\\Users\\Chris\\Anaconda3\\lib\\site-packages\\sklearn\\neural_network\\_multilayer_perceptron.py:587: UserWarning: Training interrupted by user.\n",
      "  warnings.warn(\"Training interrupted by user.\")\n",
      "C:\\Users\\Chris\\Anaconda3\\lib\\site-packages\\sklearn\\neural_network\\_multilayer_perceptron.py:587: UserWarning: Training interrupted by user.\n",
      "  warnings.warn(\"Training interrupted by user.\")\n",
      "C:\\Users\\Chris\\Anaconda3\\lib\\site-packages\\sklearn\\neural_network\\_multilayer_perceptron.py:587: UserWarning: Training interrupted by user.\n",
      "  warnings.warn(\"Training interrupted by user.\")\n",
      "C:\\Users\\Chris\\Anaconda3\\lib\\site-packages\\sklearn\\neural_network\\_multilayer_perceptron.py:587: UserWarning: Training interrupted by user.\n",
      "  warnings.warn(\"Training interrupted by user.\")\n",
      "C:\\Users\\Chris\\Anaconda3\\lib\\site-packages\\sklearn\\neural_network\\_multilayer_perceptron.py:587: UserWarning: Training interrupted by user.\n",
      "  warnings.warn(\"Training interrupted by user.\")\n",
      "C:\\Users\\Chris\\Anaconda3\\lib\\site-packages\\sklearn\\neural_network\\_multilayer_perceptron.py:587: UserWarning: Training interrupted by user.\n",
      "  warnings.warn(\"Training interrupted by user.\")\n",
      "C:\\Users\\Chris\\Anaconda3\\lib\\site-packages\\sklearn\\neural_network\\_multilayer_perceptron.py:587: UserWarning: Training interrupted by user.\n",
      "  warnings.warn(\"Training interrupted by user.\")\n",
      "C:\\Users\\Chris\\Anaconda3\\lib\\site-packages\\sklearn\\neural_network\\_multilayer_perceptron.py:587: UserWarning: Training interrupted by user.\n",
      "  warnings.warn(\"Training interrupted by user.\")\n",
      "C:\\Users\\Chris\\Anaconda3\\lib\\site-packages\\sklearn\\neural_network\\_multilayer_perceptron.py:587: UserWarning: Training interrupted by user.\n",
      "  warnings.warn(\"Training interrupted by user.\")\n",
      "C:\\Users\\Chris\\Anaconda3\\lib\\site-packages\\sklearn\\neural_network\\_multilayer_perceptron.py:587: UserWarning: Training interrupted by user.\n",
      "  warnings.warn(\"Training interrupted by user.\")\n",
      "C:\\Users\\Chris\\Anaconda3\\lib\\site-packages\\sklearn\\neural_network\\_multilayer_perceptron.py:587: UserWarning: Training interrupted by user.\n",
      "  warnings.warn(\"Training interrupted by user.\")\n",
      "C:\\Users\\Chris\\Anaconda3\\lib\\site-packages\\sklearn\\neural_network\\_multilayer_perceptron.py:587: UserWarning: Training interrupted by user.\n",
      "  warnings.warn(\"Training interrupted by user.\")\n"
     ]
    }
   ],
   "source": [
    "%time grid.fit(x_train, y_train)"
   ]
  },
  {
   "cell_type": "code",
   "execution_count": null,
   "metadata": {},
   "outputs": [],
   "source": [
    "print(grid.best_estimator_)"
   ]
  },
  {
   "cell_type": "code",
   "execution_count": null,
   "metadata": {},
   "outputs": [],
   "source": [
    "grid_predictions = grid.predict(x_test)"
   ]
  },
  {
   "cell_type": "code",
   "execution_count": null,
   "metadata": {},
   "outputs": [],
   "source": [
    "print(classification_report(y_test, grid_predictions))"
   ]
  },
  {
   "cell_type": "markdown",
   "metadata": {},
   "source": [
    "## Activation Function Definitions"
   ]
  },
  {
   "cell_type": "code",
   "execution_count": 38,
   "metadata": {
    "id": "yvtfNpgHxGJP"
   },
   "outputs": [],
   "source": [
    "def sigmoid(x):\n",
    "  \n",
    "  #return 1/(1 + np.exp(-x))\n",
    "  return np.tanh(x)\n",
    "\n",
    "def sigmoid_prime(x):\n",
    "  \n",
    "  #return sigmoid(x)*(1 - sigmoid(x))\n",
    "  return 1 - np.power(np.tanh(x), 2)"
   ]
  },
  {
   "cell_type": "code",
   "execution_count": null,
   "metadata": {},
   "outputs": [],
   "source": []
  },
  {
   "cell_type": "markdown",
   "metadata": {},
   "source": [
    "## Weights for NN"
   ]
  },
  {
   "cell_type": "code",
   "execution_count": 42,
   "metadata": {},
   "outputs": [],
   "source": [
    "X = np.array([[0,0,1],\n",
    "              [0,1,1],\n",
    "              [1,0,1],\n",
    "              [1,1,1]])\n",
    "\n",
    "# output dataset\n",
    "\n",
    "y = np.array([0, 1, 1, 0])\n",
    "# v shape has to be (number of nodes in next hidden layer, number of nodes in input layer)\n",
    "v = (2*np.random.random((2,3))-1)\n",
    "# v shape has to be (number of nodes in next hidden layer, number of nodes in output layer)\n",
    "w = (2*np.random.random((3,1))-1)"
   ]
  },
  {
   "cell_type": "code",
   "execution_count": 47,
   "metadata": {},
   "outputs": [
    {
     "name": "stdout",
     "output_type": "stream",
     "text": [
      "[[-1.06519116  1.34295047  1.08273729]\n",
      " [ 0.09144622  0.48250153  0.06631649]]\n",
      "[[ 0.94505902]\n",
      " [-0.59726124]\n",
      " [ 0.26837639]]\n"
     ]
    }
   ],
   "source": [
    "print(v)\n",
    "print(w)"
   ]
  },
  {
   "cell_type": "markdown",
   "metadata": {},
   "source": [
    "## Define the learning rate and the network structure"
   ]
  },
  {
   "cell_type": "code",
   "execution_count": 43,
   "metadata": {},
   "outputs": [],
   "source": [
    "alpha = 0.1\n",
    "\n",
    "number_input_units = 3\n",
    "number_hidden_units = 2 # ignore bias term\n",
    "number_output_units = 1"
   ]
  },
  {
   "cell_type": "markdown",
   "metadata": {},
   "source": [
    "## Perform the feedforward and backpropagation to update the weights and train the network"
   ]
  },
  {
   "cell_type": "code",
   "execution_count": 44,
   "metadata": {},
   "outputs": [
    {
     "data": {
      "image/png": "[encoded data removed]",
      "text/plain": [
       "<Figure size 432x288 with 1 Axes>"
      ]
     },
     "metadata": {
      "needs_background": "light"
     },
     "output_type": "display_data"
    }
   ],
   "source": [
    "error = []\n",
    "\n",
    "for epoch in range(0, 2000):\n",
    "    \n",
    "  # randomly select a training example\n",
    "  entry = np.random.randint(4)\n",
    "    \n",
    "  x = X[entry,:]\n",
    "\n",
    "  # 1. Feedforward\n",
    "\n",
    "  Z_in = []\n",
    "  Z_out = []\n",
    "    \n",
    "  # Each hidden unit sums its weighted input signals\n",
    "  for j in range(0, number_hidden_units):\n",
    "    Z_in.append(np.dot(x, v[j,:]))\n",
    "    Z_out.append(sigmoid(Z_in[j])) # and applies its activation function to computer its output\n",
    "    \n",
    "  \n",
    "  # We append the bias term to layer_1\n",
    "  Z_out = np.append(1, Z_out)\n",
    "    \n",
    "  Y_in = []\n",
    "  Y_out = []\n",
    "    \n",
    "  # Each output unit sums its weighted input signals\n",
    "  for k in range(0, number_output_units):\n",
    "    Y_in.append(np.dot(Z_out, w))\n",
    "    Y_out.append(sigmoid(Y_in[k]))\n",
    "      \n",
    "  Y_in = Y_in[0]\n",
    "  Y_out = Y_out[0]\n",
    "  \n",
    "   \n",
    "  # 2. Backpropagation\n",
    "\n",
    "  delta_Y = (y[entry] - Y_out)*sigmoid_prime(Y_in)\n",
    "    \n",
    "  delta_Y = np.array(delta_Y)\n",
    "   \n",
    "  #err = y[entry]-Y_out\n",
    "  err = np.power(y[entry]-Y_out, 2)\n",
    "            \n",
    "  error.append(err)\n",
    "        \n",
    "  delta_Z_in = []\n",
    "  delta_Z = []\n",
    "    \n",
    "  # Each hidden unit sums its delta inputs from previous layer\n",
    "  for j in range(0, number_hidden_units):\n",
    "    delta_Z_in.append(delta_Y*w[j+1])\n",
    "    delta_Z.append(delta_Z_in[j]*sigmoid_prime(Z_in[j]))\n",
    "      \n",
    "      \n",
    "  delta_Z = np.array(delta_Z)\n",
    "    \n",
    "        \n",
    "  # 3. Weights adjustment\n",
    "           \n",
    "  tmp = alpha*delta_Y*Z_out\n",
    "     \n",
    "  v = v + alpha*delta_Z*x\n",
    "  w = np.add(w.T, tmp)\n",
    "    \n",
    "  w = w.T\n",
    "         \n",
    "    \n",
    "fig = plt.figure()\n",
    "plt.plot(error)\n",
    "plt.ylabel('Error')\n",
    "plt.xlabel('Iterations')\n",
    "plt.show()"
   ]
  },
  {
   "cell_type": "code",
   "execution_count": null,
   "metadata": {},
   "outputs": [],
   "source": []
  },
  {
   "cell_type": "code",
   "execution_count": null,
   "metadata": {},
   "outputs": [],
   "source": []
  },
  {
   "cell_type": "code",
   "execution_count": null,
   "metadata": {},
   "outputs": [],
   "source": []
  }
 ],
 "metadata": {
  "colab": {
   "collapsed_sections": [],
   "name": "Applied Machine Learning Assignment.ipynb",
   "provenance": []
  },
  "kernelspec": {
   "display_name": "Python 3",
   "language": "python",
   "name": "python3"
  },
  "language_info": {
   "codemirror_mode": {
    "name": "ipython",
    "version": 3
   },
   "file_extension": ".py",
   "mimetype": "text/x-python",
   "name": "python",
   "nbconvert_exporter": "python",
   "pygments_lexer": "ipython3",
   "version": "3.8.3"
  }
 },
 "nbformat": 4,
 "nbformat_minor": 1
}
