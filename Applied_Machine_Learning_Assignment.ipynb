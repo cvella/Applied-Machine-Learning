{
 "cells": [
  {
   "cell_type": "markdown",
   "metadata": {
    "id": "6heD_LGUsJf7"
   },
   "source": [
    "# ICS5110: Applied Machine Learning\n",
    "\n",
    "Peter Galea St. John: 288098m\\\n",
    "Christian A. Vella\n"
   ]
  },
  {
   "cell_type": "code",
   "execution_count": 3,
   "metadata": {
    "colab": {
     "base_uri": "https://localhost:8080/"
    },
    "id": "z5-dgedozUqc",
    "outputId": "7bd601fb-ddfe-4284-83ed-08466ebe7038"
   },
   "outputs": [],
   "source": [
    "# Import some necessary libraries\n",
    "\n",
    "import pandas as pd\n",
    "import numpy as np\n",
    "import matplotlib.pyplot as plt\n",
    "%matplotlib inline\n",
    "import csv\n",
    "\n",
    "from sklearn.model_selection import train_test_split, GridSearchCV\n",
    "from sklearn.metrics import confusion_matrix, classification_report, accuracy_score\n",
    "\n",
    "######-ANN\n",
    "from sklearn.neural_network import MLPClassifier\n",
    "from sklearn.preprocessing import StandardScaler\n",
    "\n",
    "\n",
    "######-RF\n",
    "\n",
    "from sklearn.tree import DecisionTreeClassifier"
   ]
  },
  {
   "cell_type": "code",
   "execution_count": 4,
   "metadata": {
    "id": "0iRXIwsvt1td"
   },
   "outputs": [],
   "source": [
    "with open(\"Challenge_2_dataset.csv\", \"r\") as f:\n",
    "    contents=f.readlines()\n",
    "headers=contents[0].split(',')\n",
    "for i,h in enumerate(headers):\n",
    "    headers[i] = h.strip()\n",
    "data=[]\n",
    "for line in contents[1:]:\n",
    "    data_line = line.split(',')\n",
    "    for i,d in enumerate(data_line):\n",
    "        data_line[i] = d.strip()\n",
    "    data.append(data_line)"
   ]
  },
  {
   "cell_type": "code",
   "execution_count": 5,
   "metadata": {
    "id": "o3Y1T80HvTAW"
   },
   "outputs": [],
   "source": [
    " with open('Cleaned-Data.csv') as csv_file:\n",
    "    data = list(csv.reader(csv_file, delimiter='\\t'))\n",
    "    r = len(data)"
   ]
  },
  {
   "cell_type": "code",
   "execution_count": 7,
   "metadata": {
    "colab": {
     "base_uri": "https://localhost:8080/"
    },
    "id": "oJ2e4Gk0vi20",
    "outputId": "c4a14df9-c95e-4e06-c497-a828d354e5d0"
   },
   "outputs": [
    {
     "data": {
      "text/plain": [
       "['0,1,1,1,0,0,0,0,1,1,0,1,0,0,0,0,1,0,0,0,0,1,0,1,0,0,China']"
      ]
     },
     "execution_count": 7,
     "metadata": {},
     "output_type": "execute_result"
    }
   ],
   "source": [
    "r = "
   ]
  },
  {
   "cell_type": "markdown",
   "metadata": {},
   "source": [
    "# Neural Network"
   ]
  },
  {
   "cell_type": "markdown",
   "metadata": {},
   "source": [
    "## Activation Function Definitions"
   ]
  },
  {
   "cell_type": "code",
   "execution_count": null,
   "metadata": {
    "id": "yvtfNpgHxGJP"
   },
   "outputs": [],
   "source": [
    "def sigmoid(x):\n",
    "  \n",
    "  #return 1/(1 + np.exp(-x))\n",
    "  return np.tanh(x)\n",
    "\n",
    "def sigmoid_prime(x):\n",
    "  \n",
    "  #return sigmoid(x)*(1 - sigmoid(x))\n",
    "  return 1 - np.power(np.tanh(x), 2)"
   ]
  },
  {
   "cell_type": "markdown",
   "metadata": {},
   "source": [
    "## Weights for NN"
   ]
  },
  {
   "cell_type": "code",
   "execution_count": null,
   "metadata": {},
   "outputs": [],
   "source": [
    "v = (2*np.random.random((2,3))-1)\n",
    "w = (2*np.random.random((3,1))-1)"
   ]
  },
  {
   "cell_type": "markdown",
   "metadata": {},
   "source": [
    "## Define the learning rate and the network structure"
   ]
  },
  {
   "cell_type": "code",
   "execution_count": null,
   "metadata": {},
   "outputs": [],
   "source": [
    "alpha = 0.1\n",
    "\n",
    "number_input_units = 3\n",
    "number_hidden_units = 2 # ignore bias term\n",
    "number_output_units = 1"
   ]
  },
  {
   "cell_type": "markdown",
   "metadata": {},
   "source": [
    "## Perform the feedforward and backpropagation to update the weights and train the network"
   ]
  },
  {
   "cell_type": "code",
   "execution_count": null,
   "metadata": {},
   "outputs": [],
   "source": [
    "error = []\n",
    "\n",
    "for epoch in range(0, 2000):\n",
    "    \n",
    "  # randomly select a training example\n",
    "  entry = np.random.randint(4)\n",
    "    \n",
    "  x = X[entry,:]\n",
    "\n",
    "  # 1. Feedforward\n",
    "\n",
    "  Z_in = []\n",
    "  Z_out = []\n",
    "    \n",
    "  # Each hidden unit sums its weighted input signals\n",
    "  for j in range(0, number_hidden_units):\n",
    "    Z_in.append(np.dot(x, v[j,:]))\n",
    "    Z_out.append(sigmoid(Z_in[j])) # and applies its activation function to computer its output\n",
    "    \n",
    "  \n",
    "  # We append the bias term to layer_1\n",
    "  Z_out = np.append(1, Z_out)\n",
    "    \n",
    "  Y_in = []\n",
    "  Y_out = []\n",
    "    \n",
    "  # Each output unit sums its weighted input signals\n",
    "  for k in range(0, number_output_units):\n",
    "    Y_in.append(np.dot(Z_out, w))\n",
    "    Y_out.append(sigmoid(Y_in[k]))\n",
    "      \n",
    "  Y_in = Y_in[0]\n",
    "  Y_out = Y_out[0]\n",
    "  \n",
    "   \n",
    "  # 2. Backpropagation\n",
    "\n",
    "  delta_Y = (y[entry] - Y_out)*sigmoid_prime(Y_in)\n",
    "    \n",
    "  delta_Y = np.array(delta_Y)\n",
    "   \n",
    "  #err = y[entry]-Y_out\n",
    "  err = np.power(y[entry]-Y_out, 2)\n",
    "            \n",
    "  error.append(err)\n",
    "        \n",
    "  delta_Z_in = []\n",
    "  delta_Z = []\n",
    "    \n",
    "  # Each hidden unit sums its delta inputs from previous layer\n",
    "  for j in range(0, number_hidden_units):\n",
    "    delta_Z_in.append(delta_Y*w[j+1])\n",
    "    delta_Z.append(delta_Z_in[j]*sigmoid_prime(Z_in[j]))\n",
    "      \n",
    "      \n",
    "  delta_Z = np.array(delta_Z)\n",
    "    \n",
    "        \n",
    "  # 3. Weights adjustment\n",
    "           \n",
    "  tmp = alpha*delta_Y*Z_out\n",
    "     \n",
    "  v = v + alpha*delta_Z*x\n",
    "  w = np.add(w.T, tmp)\n",
    "    \n",
    "  w = w.T\n",
    "         \n",
    "    \n",
    "fig = plt.figure()\n",
    "plt.plot(error)\n",
    "plt.ylabel('Error')\n",
    "plt.xlabel('Iterations')\n",
    "plt.show()"
   ]
  },
  {
   "cell_type": "markdown",
   "metadata": {},
   "source": [
    "# Decision Tree"
   ]
  },
  {
   "cell_type": "code",
   "execution_count": null,
   "metadata": {},
   "outputs": [],
   "source": [
    "height_values = []\n",
    "acceleration_values = []\n",
    "no_wheels_values=[]\n",
    "width_values = []\n",
    "length_values = []\n",
    "fairing_values=[]\n",
    "weight_values = []\n",
    "max_speed_values = []\n",
    "torque_values=[]\n",
    "colour_values = []\n",
    "#\n",
    "classes = ['Yoshi','Golden_Mario','Luigi','Link','Mario','Shy_guy','Peachet','Wa_Luigi']\n",
    "features = ['height','acceleration','no_wheels','width','length','fairing','weight','max_speed','torque','colour']\n",
    "\n",
    "#\n",
    "classes2code = {}\n",
    "code2classes = {}\n",
    "i=0\n",
    "for v in classes:\n",
    "    classes2code[v]=i\n",
    "    code2classes[i]=v\n",
    "    i+=1\n",
    "#\n",
    "#\n",
    "# convert dataset to numpy arrays\n",
    "n = len(features)  # number of features\n",
    "m = len(data)  # number of instances\n",
    "X = np.zeros([m,n],dtype=float)\n",
    "Y = np.zeros([m],dtype=float)\n",
    "for i in range(m):\n",
    "    X[i,0] = data[i][0]\n",
    "    X[i,1] = data[i][1]\n",
    "    X[i,2] = data[i][2]\n",
    "    X[i,3] = data[i][3]\n",
    "    X[i,4] = data[i][4]\n",
    "    X[i,5] = data[i][5]\n",
    "    X[i,6] = data[i][6]\n",
    "    X[i,7] = data[i][7]\n",
    "    X[i,8] = data[i][8]\n",
    "    X[i,9] = data[i][9]\n",
    "    Y[i] = classes2code[data[i][10]]\n",
    "    "
   ]
  }
 ],
 "metadata": {
  "colab": {
   "collapsed_sections": [],
   "name": "Applied Machine Learning Assignment.ipynb",
   "provenance": []
  },
  "kernelspec": {
   "display_name": "Python 3",
   "language": "python",
   "name": "python3"
  },
  "language_info": {
   "codemirror_mode": {
    "name": "ipython",
    "version": 3
   },
   "file_extension": ".py",
   "mimetype": "text/x-python",
   "name": "python",
   "nbconvert_exporter": "python",
   "pygments_lexer": "ipython3",
   "version": "3.8.3"
  }
 },
 "nbformat": 4,
 "nbformat_minor": 1
}
