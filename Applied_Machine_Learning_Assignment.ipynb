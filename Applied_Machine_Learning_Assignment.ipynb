{
  "nbformat": 4,
  "nbformat_minor": 0,
  "metadata": {
    "colab": {
      "name": "Applied Machine Learning Assignment.ipynb",
      "provenance": [],
      "collapsed_sections": []
    },
    "kernelspec": {
      "name": "python3",
      "display_name": "Python 3"
    }
  },
  "cells": [
    {
      "cell_type": "markdown",
      "metadata": {
        "id": "6heD_LGUsJf7"
      },
      "source": [
        "# ICS5110: Applied Machine Learning\r\n",
        "\r\n",
        "Peter Galea St. John: 288098m\\\r\n",
        "Christian A. Vella\r\n"
      ]
    },
    {
      "cell_type": "code",
      "metadata": {
        "id": "DsEDk8xGvEss"
      },
      "source": [
        "import numpy as np"
      ],
      "execution_count": 1,
      "outputs": []
    },
    {
      "cell_type": "code",
      "metadata": {
        "id": "z5-dgedozUqc",
        "colab": {
          "base_uri": "https://localhost:8080/"
        },
        "outputId": "7bd601fb-ddfe-4284-83ed-08466ebe7038"
      },
      "source": [
        "# Import some necessary libraries\n",
        "\n",
        "import pandas as pd\n",
        "import numpy as np\n",
        "import matplotlib.pyplot as plt\n",
        "%matplotlib inline\n",
        "import csv\n",
        "from sklearn.model_selection import train_test_split, GridSearchCV\n",
        "from sklearn.metrics import confusion_matrix, classification_report, accuracy_score\n",
        "\n",
        "######-ANN\n",
        "from sklearn.neural_network import MLPClassifier\n",
        "from sklearn.preprocessing import StandardScaler\n",
        "# import sys\n",
        "\n",
        "######-SVM\n",
        "\n",
        "from scipy import stats\n",
        "from sklearn.svm import SVC # \"Support vector classifier\"\n",
        "\n",
        "\n",
        "######-RF\n",
        "\n",
        "from sklearn.tree import DecisionTreeClassifier\n",
        "\n",
        "from google.colab import drive\n",
        "drive.mount('/content/gdrive')"
      ],
      "execution_count": 8,
      "outputs": [
        {
          "output_type": "stream",
          "text": [
            "Drive already mounted at /content/gdrive; to attempt to forcibly remount, call drive.mount(\"/content/gdrive\", force_remount=True).\n"
          ],
          "name": "stdout"
        }
      ]
    },
    {
      "cell_type": "code",
      "metadata": {
        "id": "z51dxNC7h1DX",
        "colab": {
          "base_uri": "https://localhost:8080/"
        },
        "outputId": "c36897fa-7f49-4b0c-82fe-e38a24c98270"
      },
      "source": [
        "from google.colab import drive\r\n",
        "drive.mount('/content/gdrive')"
      ],
      "execution_count": 2,
      "outputs": [
        {
          "output_type": "stream",
          "text": [
            "Mounted at /content/gdrive\n"
          ],
          "name": "stdout"
        }
      ]
    },
    {
      "cell_type": "code",
      "metadata": {
        "id": "0iRXIwsvt1td"
      },
      "source": [
        "# data = np.l(fname='/content/gdrive/Shared drives/Masters/Cleaned-Data.csv')\r\n",
        "# target = np.zeros(data.shape[0])\r\n",
        "# data.shape"
      ],
      "execution_count": 6,
      "outputs": []
    },
    {
      "cell_type": "code",
      "metadata": {
        "id": "o3Y1T80HvTAW"
      },
      "source": [
        " with open('/content/gdrive/Shared drives/Masters/Cleaned-Data.csv') as csv_file:\r\n",
        "    data = list(csv.reader(csv_file, delimiter='\\t'))\r\n",
        "    r = len(data)"
      ],
      "execution_count": 14,
      "outputs": []
    },
    {
      "cell_type": "code",
      "metadata": {
        "id": "oJ2e4Gk0vi20",
        "colab": {
          "base_uri": "https://localhost:8080/"
        },
        "outputId": "c4a14df9-c95e-4e06-c497-a828d354e5d0"
      },
      "source": [
        "r"
      ],
      "execution_count": 10,
      "outputs": [
        {
          "output_type": "execute_result",
          "data": {
            "text/plain": [
              "316801"
            ]
          },
          "metadata": {
            "tags": []
          },
          "execution_count": 10
        }
      ]
    },
    {
      "cell_type": "code",
      "metadata": {
        "id": "yvtfNpgHxGJP"
      },
      "source": [
        ""
      ],
      "execution_count": null,
      "outputs": []
    }
  ]
}